{
 "cells": [
  {
   "cell_type": "markdown",
   "id": "006855ee-be04-4543-8155-3c10bdbb7ddd",
   "metadata": {
    "tags": []
   },
   "source": [
    "# sdfsdfsd"
   ]
  },
  {
   "cell_type": "markdown",
   "id": "82b5a0a7-756f-4eac-88a0-aee6a019f502",
   "metadata": {
    "tags": []
   },
   "source": [
    "##  asdfsa"
   ]
  },
  {
   "cell_type": "markdown",
   "id": "ff045154-86f3-480c-9caf-00e002394070",
   "metadata": {
    "tags": []
   },
   "source": [
    "### dfdf"
   ]
  },
  {
   "cell_type": "markdown",
   "id": "0e7fe531-9f57-41fe-a9f3-87de5425109e",
   "metadata": {},
   "source": [
    "#### dfdf"
   ]
  },
  {
   "cell_type": "markdown",
   "id": "d619cb20-9ea3-4aba-8622-6d448f873384",
   "metadata": {},
   "source": [
    "##### dfdf"
   ]
  },
  {
   "cell_type": "markdown",
   "id": "693aa4d1-422f-4da5-9f5d-c72eae5f9409",
   "metadata": {},
   "source": [
    "###### dfdf"
   ]
  },
  {
   "cell_type": "code",
   "execution_count": 6,
   "id": "1f610547-cc6d-47bd-8b48-fcd6012930e8",
   "metadata": {},
   "outputs": [
    {
     "data": {
      "text/html": [
       "<table>\n",
       "<thead><tr><th scope=col>ozone</th><th scope=col>solar.r</th><th scope=col>wind</th><th scope=col>temp</th><th scope=col>month</th><th scope=col>day</th></tr></thead>\n",
       "<tbody>\n",
       "\t<tr><td>41  </td><td>190 </td><td> 7.4</td><td>67  </td><td>5   </td><td>1   </td></tr>\n",
       "\t<tr><td>36  </td><td>118 </td><td> 8.0</td><td>72  </td><td>5   </td><td>2   </td></tr>\n",
       "\t<tr><td>12  </td><td>149 </td><td>12.6</td><td>74  </td><td>5   </td><td>3   </td></tr>\n",
       "\t<tr><td>18  </td><td>313 </td><td>11.5</td><td>62  </td><td>5   </td><td>4   </td></tr>\n",
       "\t<tr><td>NA  </td><td> NA </td><td>14.3</td><td>56  </td><td>5   </td><td>5   </td></tr>\n",
       "\t<tr><td>28  </td><td> NA </td><td>14.9</td><td>66  </td><td>5   </td><td>6   </td></tr>\n",
       "</tbody>\n",
       "</table>\n"
      ],
      "text/latex": [
       "\\begin{tabular}{r|llllll}\n",
       " ozone & solar.r & wind & temp & month & day\\\\\n",
       "\\hline\n",
       "\t 41   & 190  &  7.4 & 67   & 5    & 1   \\\\\n",
       "\t 36   & 118  &  8.0 & 72   & 5    & 2   \\\\\n",
       "\t 12   & 149  & 12.6 & 74   & 5    & 3   \\\\\n",
       "\t 18   & 313  & 11.5 & 62   & 5    & 4   \\\\\n",
       "\t NA   &  NA  & 14.3 & 56   & 5    & 5   \\\\\n",
       "\t 28   &  NA  & 14.9 & 66   & 5    & 6   \\\\\n",
       "\\end{tabular}\n"
      ],
      "text/markdown": [
       "\n",
       "| ozone | solar.r | wind | temp | month | day |\n",
       "|---|---|---|---|---|---|\n",
       "| 41   | 190  |  7.4 | 67   | 5    | 1    |\n",
       "| 36   | 118  |  8.0 | 72   | 5    | 2    |\n",
       "| 12   | 149  | 12.6 | 74   | 5    | 3    |\n",
       "| 18   | 313  | 11.5 | 62   | 5    | 4    |\n",
       "| NA   |  NA  | 14.3 | 56   | 5    | 5    |\n",
       "| 28   |  NA  | 14.9 | 66   | 5    | 6    |\n",
       "\n"
      ],
      "text/plain": [
       "  ozone solar.r wind temp month day\n",
       "1 41    190      7.4 67   5     1  \n",
       "2 36    118      8.0 72   5     2  \n",
       "3 12    149     12.6 74   5     3  \n",
       "4 18    313     11.5 62   5     4  \n",
       "5 NA     NA     14.3 56   5     5  \n",
       "6 28     NA     14.9 66   5     6  "
      ]
     },
     "metadata": {},
     "output_type": "display_data"
    }
   ],
   "source": [
    "head(airquality)"
   ]
  },
  {
   "cell_type": "code",
   "execution_count": 8,
   "id": "d3b8a3bc-74d1-423b-bb03-23b8c278b35c",
   "metadata": {},
   "outputs": [],
   "source": [
    "x = airquality"
   ]
  },
  {
   "cell_type": "code",
   "execution_count": 7,
   "id": "47166468-a599-43ed-9f37-42a873afb175",
   "metadata": {
    "tags": []
   },
   "outputs": [
    {
     "data": {
      "image/png": "[encoded data removed]",
      "text/plain": [
       "plot without title"
      ]
     },
     "metadata": {},
     "output_type": "display_data"
    }
   ],
   "source": [
    "boxplot(airquality[,c(1:4)])"
   ]
  }
 ],
 "metadata": {
  "kernelspec": {
   "display_name": "R",
   "language": "R",
   "name": "ir"
  },
  "language_info": {
   "codemirror_mode": "r",
   "file_extension": ".r",
   "mimetype": "text/x-r-source",
   "name": "R",
   "pygments_lexer": "r",
   "version": "3.6.1"
  }
 },
 "nbformat": 4,
 "nbformat_minor": 5
}
