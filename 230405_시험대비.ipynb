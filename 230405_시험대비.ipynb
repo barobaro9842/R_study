{
 "cells": [
  {
   "cell_type": "markdown",
   "id": "2225ea7f-27f6-4457-90e1-48a9810284ce",
   "metadata": {},
   "source": [
    "# 데이터 과학의 문법"
   ]
  },
  {
   "cell_type": "markdown",
   "id": "5b075533-d7e6-4e60-bf08-fd47e2732c13",
   "metadata": {},
   "source": [
    "변수 : 데이터 저장 공간\n",
    "\n",
    "데이터형\n",
    "\n",
    "- 숫자형, 문자형, 범주형, 논리형, 특수 상수 등"
   ]
  },
  {
   "cell_type": "markdown",
   "id": "ac867cf0-c09a-4fad-b105-e3fd8159bfdc",
   "metadata": {},
   "source": [
    "# 변수"
   ]
  },
  {
   "cell_type": "markdown",
   "id": "c52c0154-b263-46b7-af23-faa723b9bf1c",
   "metadata": {},
   "source": [
    "## 변수에 값을 저장하기 ( <- = -> 사용 가능)"
   ]
  },
  {
   "cell_type": "code",
   "execution_count": 2,
   "id": "f927eb0f-7b06-4f74-910f-12f26964585c",
   "metadata": {},
   "outputs": [],
   "source": [
    "x <- 3\n",
    "y <- 4"
   ]
  },
  {
   "cell_type": "code",
   "execution_count": 3,
   "id": "f32e2685-9a45-44f1-8349-499c29dbf7a0",
   "metadata": {},
   "outputs": [
    {
     "data": {
      "text/html": [
       "7"
      ],
      "text/latex": [
       "7"
      ],
      "text/markdown": [
       "7"
      ],
      "text/plain": [
       "[1] 7"
      ]
     },
     "metadata": {},
     "output_type": "display_data"
    }
   ],
   "source": [
    "z <- x + y\n",
    "z"
   ]
  },
  {
   "cell_type": "code",
   "execution_count": 4,
   "id": "51608507-6302-4130-a2f6-8946c322d75c",
   "metadata": {},
   "outputs": [
    {
     "data": {
      "text/html": [
       "7"
      ],
      "text/latex": [
       "7"
      ],
      "text/markdown": [
       "7"
      ],
      "text/plain": [
       "[1] 7"
      ]
     },
     "metadata": {},
     "output_type": "display_data"
    }
   ],
   "source": [
    "x + y -> z\n",
    "z"
   ]
  },
  {
   "cell_type": "code",
   "execution_count": 6,
   "id": "8c77bd6a-4130-4613-9e99-7df7e8f3df25",
   "metadata": {},
   "outputs": [
    {
     "data": {
      "text/html": [
       "7"
      ],
      "text/latex": [
       "7"
      ],
      "text/markdown": [
       "7"
      ],
      "text/plain": [
       "[1] 7"
      ]
     },
     "metadata": {},
     "output_type": "display_data"
    }
   ],
   "source": [
    "z = x + y\n",
    "z"
   ]
  },
  {
   "cell_type": "code",
   "execution_count": 8,
   "id": "a1520e3e-ba4a-401a-98b9-8b604e5ea566",
   "metadata": {},
   "outputs": [
    {
     "ename": "ERROR",
     "evalue": "Error in x + y = z: 함수 \"+<-\"를 찾을 수 없습니다\n",
     "output_type": "error",
     "traceback": [
      "Error in x + y = z: 함수 \"+<-\"를 찾을 수 없습니다\nTraceback:\n"
     ]
    }
   ],
   "source": [
    "x + y = z # 불가능"
   ]
  },
  {
   "cell_type": "markdown",
   "id": "95ad75a0-9170-4eac-90f6-9d815f049522",
   "metadata": {},
   "source": [
    "## 두 값을 교환하는 예제"
   ]
  },
  {
   "cell_type": "code",
   "execution_count": 14,
   "id": "9d988ae9-5f98-4ea3-8cec-a8a9703fdd74",
   "metadata": {},
   "outputs": [
    {
     "name": "stdout",
     "output_type": "stream",
     "text": [
      "2 1"
     ]
    }
   ],
   "source": [
    "x = 1\n",
    "y = 2\n",
    "temp = x\n",
    "x = y\n",
    "y = temp\n",
    "\n",
    "cat(x, y)"
   ]
  },
  {
   "cell_type": "markdown",
   "id": "d641cc65-5fd0-43ff-b91a-e8dcb1119a8e",
   "metadata": {},
   "source": [
    "# 데이터형"
   ]
  },
  {
   "cell_type": "markdown",
   "id": "322f3df4-5fea-4214-b950-79a1dc13b69d",
   "metadata": {},
   "source": []
  },
  {
   "cell_type": "markdown",
   "id": "7a5dc60c-a3ad-4474-a8d8-3fbf99d14f1a",
   "metadata": {},
   "source": [
    "## 데이터형 연산"
   ]
  },
  {
   "cell_type": "code",
   "execution_count": 17,
   "id": "fdd78187-6941-4b9c-9e3a-745026eee9c4",
   "metadata": {},
   "outputs": [
    {
     "data": {
      "text/html": [
       "2.5"
      ],
      "text/latex": [
       "2.5"
      ],
      "text/markdown": [
       "2.5"
      ],
      "text/plain": [
       "[1] 2.5"
      ]
     },
     "metadata": {},
     "output_type": "display_data"
    }
   ],
   "source": [
    "# 정수연산\n",
    "x = 5\n",
    "y = 2\n",
    "x/y"
   ]
  },
  {
   "cell_type": "code",
   "execution_count": 40,
   "id": "92fcbef0-0e85-4b45-9c0c-56bb660bba3e",
   "metadata": {},
   "outputs": [
    {
     "data": {
      "text/html": [
       "2+0i"
      ],
      "text/latex": [
       "2+0i"
      ],
      "text/markdown": [
       "2+0i"
      ],
      "text/plain": [
       "[1] 2+0i"
      ]
     },
     "metadata": {},
     "output_type": "display_data"
    }
   ],
   "source": [
    "# 복소수 연산\n",
    "xi = 1 + 2i\n",
    "yi = 1 - 2i\n",
    "xi+yi"
   ]
  },
  {
   "cell_type": "code",
   "execution_count": 41,
   "id": "82a226f8-4a0e-4120-8419-0dbd1f8403b8",
   "metadata": {},
   "outputs": [
    {
     "data": {
      "text/html": [
       "'Hello, World!'"
      ],
      "text/latex": [
       "'Hello, World!'"
      ],
      "text/markdown": [
       "'Hello, World!'"
      ],
      "text/plain": [
       "[1] \"Hello, World!\""
      ]
     },
     "metadata": {},
     "output_type": "display_data"
    }
   ],
   "source": [
    "str = \"Hello, World!\"\n",
    "str"
   ]
  },
  {
   "cell_type": "code",
   "execution_count": 42,
   "id": "06b869da-7ad8-48f0-b54e-8fd0ae8591ac",
   "metadata": {},
   "outputs": [
    {
     "data": {
      "text/html": [
       "<ol class=list-inline>\n",
       "\t<li>A</li>\n",
       "\t<li>B</li>\n",
       "\t<li>B</li>\n",
       "\t<li>AB</li>\n",
       "</ol>\n",
       "\n",
       "<details>\n",
       "\t<summary style=display:list-item;cursor:pointer>\n",
       "\t\t<strong>Levels</strong>:\n",
       "\t</summary>\n",
       "\t<ol class=list-inline>\n",
       "\t\t<li>'A'</li>\n",
       "\t\t<li>'AB'</li>\n",
       "\t\t<li>'B'</li>\n",
       "\t</ol>\n",
       "</details>"
      ],
      "text/latex": [
       "\\begin{enumerate*}\n",
       "\\item A\n",
       "\\item B\n",
       "\\item B\n",
       "\\item AB\n",
       "\\end{enumerate*}\n",
       "\n",
       "\\emph{Levels}: \\begin{enumerate*}\n",
       "\\item 'A'\n",
       "\\item 'AB'\n",
       "\\item 'B'\n",
       "\\end{enumerate*}\n"
      ],
      "text/markdown": [
       "1. A\n",
       "2. B\n",
       "3. B\n",
       "4. AB\n",
       "\n",
       "\n",
       "\n",
       "**Levels**: 1. 'A'\n",
       "2. 'AB'\n",
       "3. 'B'\n",
       "\n",
       "\n"
      ],
      "text/plain": [
       "[1] A  B  B  AB\n",
       "Levels: A AB B"
      ]
     },
     "metadata": {},
     "output_type": "display_data"
    }
   ],
   "source": [
    "# R 변수명에서는 _와 .을 사용할 수 있다.\n",
    "# factor : 범주형 변수라는 사실을 저장\n",
    "blood.type = factor(c(\"A\",\"B\",\"B\",\"AB\"))\n",
    "blood.type"
   ]
  },
  {
   "cell_type": "markdown",
   "id": "d6c15e4f-d912-4c06-98e7-7577a68d74a4",
   "metadata": {},
   "source": [
    "※ 단, 변수명은 숫자 또는 _로 시작할 수 없다."
   ]
  },
  {
   "cell_type": "code",
   "execution_count": 43,
   "id": "e3ad9f1a-bf8c-48ec-a9e7-ea7dd1e3fd56",
   "metadata": {},
   "outputs": [
    {
     "data": {
      "text/html": [
       "TRUE"
      ],
      "text/latex": [
       "TRUE"
      ],
      "text/markdown": [
       "TRUE"
      ],
      "text/plain": [
       "[1] TRUE"
      ]
     },
     "metadata": {},
     "output_type": "display_data"
    }
   ],
   "source": [
    "T"
   ]
  },
  {
   "cell_type": "code",
   "execution_count": 44,
   "id": "a9ae7849-627d-4896-af93-7776a51b84fc",
   "metadata": {},
   "outputs": [
    {
     "data": {
      "text/html": [
       "FALSE"
      ],
      "text/latex": [
       "FALSE"
      ],
      "text/markdown": [
       "FALSE"
      ],
      "text/plain": [
       "[1] FALSE"
      ]
     },
     "metadata": {},
     "output_type": "display_data"
    }
   ],
   "source": [
    "F"
   ]
  },
  {
   "cell_type": "code",
   "execution_count": 45,
   "id": "fe8a9ed0-20b2-437f-8fd7-920597092478",
   "metadata": {},
   "outputs": [
    {
     "data": {
      "text/html": [
       "NaN"
      ],
      "text/latex": [
       "NaN"
      ],
      "text/markdown": [
       "NaN"
      ],
      "text/plain": [
       "[1] NaN"
      ]
     },
     "metadata": {},
     "output_type": "display_data"
    }
   ],
   "source": [
    "xinf = Inf\n",
    "yinf = -Inf\n",
    "xinf/yinf # infty / infty -> Not A Number (NaN)"
   ]
  },
  {
   "cell_type": "markdown",
   "id": "a22b38b9-207a-483d-9884-8854dda7b44b",
   "metadata": {},
   "source": [
    "## 데이터 확인 및 변환"
   ]
  },
  {
   "cell_type": "code",
   "execution_count": 46,
   "id": "09d87d2d-539d-4d5c-837d-0e503ecdd462",
   "metadata": {},
   "outputs": [
    {
     "name": "stdout",
     "output_type": "stream",
     "text": [
      "[1] \"numeric\"\n",
      "[1] \"double\"\n",
      "[1] FALSE\n"
     ]
    }
   ],
   "source": [
    "print(class(1))\n",
    "print(typeof(1))\n",
    "\n",
    "print(is.integer(1))"
   ]
  },
  {
   "cell_type": "code",
   "execution_count": 47,
   "id": "8a1e200d-0dbd-4831-a10b-17721704e2e0",
   "metadata": {},
   "outputs": [
    {
     "data": {
      "text/html": [
       "1"
      ],
      "text/latex": [
       "1"
      ],
      "text/markdown": [
       "1"
      ],
      "text/plain": [
       "[1] 1"
      ]
     },
     "metadata": {},
     "output_type": "display_data"
    }
   ],
   "source": [
    "as.integer('1')"
   ]
  },
  {
   "cell_type": "markdown",
   "id": "d691f821-2f94-41cf-b3c5-c9401173f393",
   "metadata": {},
   "source": [
    "# 연산 "
   ]
  },
  {
   "cell_type": "code",
   "execution_count": 48,
   "id": "68edd6b0-4e31-4a3c-bb75-107179a5178a",
   "metadata": {},
   "outputs": [
    {
     "name": "stdout",
     "output_type": "stream",
     "text": [
      "[1] 7\n",
      "[1] 3\n",
      "[1] 10\n",
      "[1] 2.5\n"
     ]
    }
   ],
   "source": [
    "print(5 + 2)\n",
    "print(5 - 2)\n",
    "print(5 * 2)\n",
    "print(5 / 2)"
   ]
  },
  {
   "cell_type": "code",
   "execution_count": 49,
   "id": "7f1840c0-eda3-4e35-9131-05a4fc0276d6",
   "metadata": {},
   "outputs": [
    {
     "name": "stdout",
     "output_type": "stream",
     "text": [
      "[1] FALSE\n",
      "[1] TRUE\n",
      "[1] FALSE\n",
      "[1] TRUE\n"
     ]
    }
   ],
   "source": [
    "print(5 < 2)\n",
    "print(5 > 2)\n",
    "print(5 == 2)\n",
    "print(5 != 2)"
   ]
  },
  {
   "cell_type": "code",
   "execution_count": 50,
   "id": "a9b1d15f-7780-4eb7-b021-9a77e03b656e",
   "metadata": {},
   "outputs": [
    {
     "name": "stdout",
     "output_type": "stream",
     "text": [
      "[1] FALSE\n",
      "[1] FALSE\n",
      "[1] TRUE\n"
     ]
    }
   ],
   "source": [
    "print(!T)\n",
    "print(1 < 0 & 2 < 5)\n",
    "print(1 < 0 | 2 < 5)"
   ]
  },
  {
   "cell_type": "markdown",
   "id": "b10ec84b-b11d-4ac7-a631-5e600ae9c9b6",
   "metadata": {},
   "source": [
    "## 연산자 우선순위"
   ]
  },
  {
   "cell_type": "code",
   "execution_count": null,
   "id": "975f7219-518a-4f22-87cc-ea9d31980bfa",
   "metadata": {},
   "outputs": [],
   "source": []
  },
  {
   "cell_type": "markdown",
   "id": "9993e32e-113e-423b-bfb4-338844554abe",
   "metadata": {},
   "source": [
    "# 벡터 "
   ]
  },
  {
   "cell_type": "markdown",
   "id": "e1948f8f-60c1-4104-a0a9-72dae393641a",
   "metadata": {},
   "source": [
    "## 벡터 생성"
   ]
  },
  {
   "cell_type": "markdown",
   "id": "d3b9aa5b-828e-4a51-b517-af04f24ee73d",
   "metadata": {},
   "source": [
    "### :, c 사용"
   ]
  },
  {
   "cell_type": "code",
   "execution_count": 57,
   "id": "109e4fa0-6f7c-49d7-b0ac-4618a63b2e48",
   "metadata": {},
   "outputs": [
    {
     "name": "stdout",
     "output_type": "stream",
     "text": [
      "[1] 1 2 3 4 5 6 7\n"
     ]
    }
   ],
   "source": [
    "print(1:7)"
   ]
  },
  {
   "cell_type": "code",
   "execution_count": 58,
   "id": "f2234ee4-1db3-493f-bd26-f0730dcf1be4",
   "metadata": {},
   "outputs": [
    {
     "name": "stdout",
     "output_type": "stream",
     "text": [
      "[1] 7 6 5 4 3 2 1\n"
     ]
    }
   ],
   "source": [
    "print(7:1)"
   ]
  },
  {
   "cell_type": "code",
   "execution_count": 56,
   "id": "83913429-5a8c-400b-880d-3fbfde03e096",
   "metadata": {},
   "outputs": [
    {
     "data": {
      "text/html": [
       "<ol class=list-inline>\n",
       "\t<li>FALSE</li>\n",
       "\t<li>FALSE</li>\n",
       "\t<li>FALSE</li>\n",
       "\t<li>FALSE</li>\n",
       "\t<li>FALSE</li>\n",
       "</ol>\n"
      ],
      "text/latex": [
       "\\begin{enumerate*}\n",
       "\\item FALSE\n",
       "\\item FALSE\n",
       "\\item FALSE\n",
       "\\item FALSE\n",
       "\\item FALSE\n",
       "\\end{enumerate*}\n"
      ],
      "text/markdown": [
       "1. FALSE\n",
       "2. FALSE\n",
       "3. FALSE\n",
       "4. FALSE\n",
       "5. FALSE\n",
       "\n",
       "\n"
      ],
      "text/plain": [
       "[1] FALSE FALSE FALSE FALSE FALSE"
      ]
     },
     "metadata": {},
     "output_type": "display_data"
    }
   ],
   "source": [
    "# 빈벡터 생성\n",
    "vector(length = 5)"
   ]
  },
  {
   "cell_type": "code",
   "execution_count": 62,
   "id": "05e589fe-e355-42af-9e4a-486a6800b2e5",
   "metadata": {},
   "outputs": [
    {
     "name": "stdout",
     "output_type": "stream",
     "text": [
      "[1] 1 2 3 4 5 6\n"
     ]
    }
   ],
   "source": [
    "print(c(1,2,3,c(4:6)))"
   ]
  },
  {
   "cell_type": "code",
   "execution_count": 65,
   "id": "309bef5a-3e4c-4420-8aa3-06588fdab983",
   "metadata": {},
   "outputs": [
    {
     "data": {
      "text/html": [
       "<ol class=list-inline>\n",
       "\t<li>1</li>\n",
       "\t<li>2</li>\n",
       "\t<li>3</li>\n",
       "</ol>\n"
      ],
      "text/latex": [
       "\\begin{enumerate*}\n",
       "\\item 1\n",
       "\\item 2\n",
       "\\item 3\n",
       "\\end{enumerate*}\n"
      ],
      "text/markdown": [
       "1. 1\n",
       "2. 2\n",
       "3. 3\n",
       "\n",
       "\n"
      ],
      "text/plain": [
       "[1] 1 2 3"
      ]
     },
     "metadata": {},
     "output_type": "display_data"
    }
   ],
   "source": [
    "y = c()\n",
    "y = c(y, c(1:3))\n",
    "y"
   ]
  },
  {
   "cell_type": "markdown",
   "id": "afb72c48-749a-4134-a561-9a6c4cc7c48a",
   "metadata": {},
   "source": [
    "### seq사용"
   ]
  },
  {
   "cell_type": "code",
   "execution_count": 72,
   "id": "6918f3a4-b231-4dc8-ae0a-4802a4a0f852",
   "metadata": {},
   "outputs": [
    {
     "name": "stdout",
     "output_type": "stream",
     "text": [
      "[1] 1 3 5 7 9\n"
     ]
    }
   ],
   "source": [
    "print(seq(from=1, to=10, by=2))"
   ]
  },
  {
   "cell_type": "code",
   "execution_count": 73,
   "id": "1920c5d0-dabe-4f1d-8424-87d898ea6a49",
   "metadata": {},
   "outputs": [
    {
     "name": "stdout",
     "output_type": "stream",
     "text": [
      " [1] 0.0 0.1 0.2 0.3 0.4 0.5 0.6 0.7 0.8 0.9 1.0\n"
     ]
    }
   ],
   "source": [
    "print(seq(0,1,0.1))"
   ]
  },
  {
   "cell_type": "code",
   "execution_count": 75,
   "id": "72f39fd2-c816-455f-8908-6c1f52f58660",
   "metadata": {},
   "outputs": [
    {
     "name": "stdout",
     "output_type": "stream",
     "text": [
      " [1] 0.0000000 0.1111111 0.2222222 0.3333333 0.4444444 0.5555556 0.6666667\n",
      " [8] 0.7777778 0.8888889 1.0000000\n"
     ]
    }
   ],
   "source": [
    "# 출력갯수에 맞게 알아서 간격 계산\n",
    "print(seq(0,1,length.out = 10))"
   ]
  },
  {
   "cell_type": "markdown",
   "id": "dd5f623e-40c5-46a6-8807-d96841407145",
   "metadata": {},
   "source": [
    "###  rep 함수"
   ]
  },
  {
   "cell_type": "code",
   "execution_count": 81,
   "id": "4d096886-3ba5-42e3-9425-929c7a353b4e",
   "metadata": {},
   "outputs": [
    {
     "name": "stdout",
     "output_type": "stream",
     "text": [
      "[1] 1 2 3 1 2 3\n"
     ]
    }
   ],
   "source": [
    "# 전체 반복\n",
    "print(rep(c(1:3), times=2))"
   ]
  },
  {
   "cell_type": "code",
   "execution_count": 82,
   "id": "08428139-71e7-4064-82c6-f6828f110af1",
   "metadata": {},
   "outputs": [
    {
     "name": "stdout",
     "output_type": "stream",
     "text": [
      "[1] 1 1 2 2 3 3\n"
     ]
    }
   ],
   "source": [
    "# 요소별 반복\n",
    "print(rep(c(1:3), each=2))"
   ]
  },
  {
   "cell_type": "markdown",
   "id": "785b8201-66be-4ef4-bffc-9cdf03766735",
   "metadata": {},
   "source": [
    "## 벡터 연산 "
   ]
  },
  {
   "cell_type": "markdown",
   "id": "e7becca5-c1b5-4c6c-9edf-7be5157431b3",
   "metadata": {},
   "source": [
    "### 인덱싱"
   ]
  },
  {
   "cell_type": "code",
   "execution_count": 83,
   "id": "9f5297ad-0801-4caa-b0fa-46b1c39a29d3",
   "metadata": {},
   "outputs": [],
   "source": [
    "x = c(2,4,6,8,10)"
   ]
  },
  {
   "cell_type": "code",
   "execution_count": 85,
   "id": "83720fb2-736b-4f5f-a158-f2c65d105dc4",
   "metadata": {},
   "outputs": [
    {
     "data": {
      "text/html": [
       "5"
      ],
      "text/latex": [
       "5"
      ],
      "text/markdown": [
       "5"
      ],
      "text/plain": [
       "[1] 5"
      ]
     },
     "metadata": {},
     "output_type": "display_data"
    }
   ],
   "source": [
    "length(x)"
   ]
  },
  {
   "cell_type": "code",
   "execution_count": 86,
   "id": "1ecc3429-b40a-492b-b798-8083a41a6c41",
   "metadata": {},
   "outputs": [
    {
     "data": {
      "text/html": [
       "2"
      ],
      "text/latex": [
       "2"
      ],
      "text/markdown": [
       "2"
      ],
      "text/plain": [
       "[1] 2"
      ]
     },
     "metadata": {},
     "output_type": "display_data"
    }
   ],
   "source": [
    "x[1]"
   ]
  },
  {
   "cell_type": "code",
   "execution_count": 91,
   "id": "e404fd5c-9198-447b-90c9-5e7fbeb04ff3",
   "metadata": {},
   "outputs": [
    {
     "ename": "ERROR",
     "evalue": "Error in x[1, 2, 3]: incorrect number of dimensions\n",
     "output_type": "error",
     "traceback": [
      "Error in x[1, 2, 3]: incorrect number of dimensions\nTraceback:\n"
     ]
    }
   ],
   "source": [
    "x[1,2,3] # error"
   ]
  },
  {
   "cell_type": "code",
   "execution_count": 92,
   "id": "0592bbcc-d2a4-4ad6-a5a5-68f73cc3726d",
   "metadata": {},
   "outputs": [
    {
     "name": "stdout",
     "output_type": "stream",
     "text": [
      "[1] 2 4 6\n"
     ]
    }
   ],
   "source": [
    "# 다중 인덱싱\n",
    "print(x[c(1,2,3)])"
   ]
  },
  {
   "cell_type": "code",
   "execution_count": 95,
   "id": "f876312c-b399-4377-aeea-037091d48e36",
   "metadata": {},
   "outputs": [
    {
     "name": "stdout",
     "output_type": "stream",
     "text": [
      "[1]  8 10\n"
     ]
    }
   ],
   "source": [
    "# 제외 인덱싱\n",
    "print(x[-c(1,2,3)])"
   ]
  },
  {
   "cell_type": "code",
   "execution_count": 96,
   "id": "9893589f-e033-4589-a08c-3070e39e6e4d",
   "metadata": {},
   "outputs": [
    {
     "name": "stdout",
     "output_type": "stream",
     "text": [
      "[1] 2 4 6\n"
     ]
    }
   ],
   "source": [
    "print(x[c(1:3)])"
   ]
  },
  {
   "cell_type": "markdown",
   "id": "a5cbda25-8e31-4d7c-85eb-70347927334a",
   "metadata": {},
   "source": [
    "### 벡터 간 연산"
   ]
  },
  {
   "cell_type": "code",
   "execution_count": 97,
   "id": "7d5f90b5-87d1-40fb-9ed6-430673f305eb",
   "metadata": {},
   "outputs": [],
   "source": [
    "x = c(1,2,3,4)\n",
    "y = c(5,6,7,8)\n",
    "z = c(3,4)\n",
    "w = c(5,6,7)"
   ]
  },
  {
   "cell_type": "code",
   "execution_count": 100,
   "id": "b0e280ac-d49d-44b7-8e44-304ba9395508",
   "metadata": {},
   "outputs": [
    {
     "name": "stdout",
     "output_type": "stream",
     "text": [
      "[1] 3 4 5 6\n"
     ]
    }
   ],
   "source": [
    "# 각 요소에 +2\n",
    "print(x + 2)"
   ]
  },
  {
   "cell_type": "code",
   "execution_count": 103,
   "id": "c830c06d-41b9-4419-9afc-326c547e4973",
   "metadata": {},
   "outputs": [
    {
     "name": "stdout",
     "output_type": "stream",
     "text": [
      "[1]  6  8 10 12\n"
     ]
    }
   ],
   "source": [
    "# 각 요소간 합\n",
    "print(x + y)"
   ]
  },
  {
   "cell_type": "code",
   "execution_count": 105,
   "id": "6fe4a153-55bb-400a-a10f-f7f2dae60dcf",
   "metadata": {},
   "outputs": [
    {
     "name": "stdout",
     "output_type": "stream",
     "text": [
      "[1] 4 6 6 8\n"
     ]
    }
   ],
   "source": [
    "# 벡터 길이가 다른 경우, 작은 쪽 벡터를 반복해서 더해줌\n",
    "print(x + z)"
   ]
  },
  {
   "cell_type": "code",
   "execution_count": 108,
   "id": "4c56569b-4ee2-482f-9a14-6f61b42a4a3b",
   "metadata": {},
   "outputs": [
    {
     "name": "stderr",
     "output_type": "stream",
     "text": [
      "Warning message in x + w:\n",
      "\"두 객체의 길이가 서로 배수관계에 있지 않습니다\""
     ]
    },
    {
     "name": "stdout",
     "output_type": "stream",
     "text": [
      "[1]  6  8 10  9\n"
     ]
    }
   ],
   "source": [
    "# 두 벡터 길이가 배수관계가 아닌 경우, 순차적으로 순환하면서 연산은 되지만 warning 발생\n",
    "print(x + w)"
   ]
  },
  {
   "cell_type": "markdown",
   "id": "e3c73d5d-a30a-4d5e-a8c5-ac23d4eab27e",
   "metadata": {},
   "source": [
    "### all, any 함수"
   ]
  },
  {
   "cell_type": "code",
   "execution_count": 109,
   "id": "31578514-2386-486b-b5d7-48064152154e",
   "metadata": {},
   "outputs": [],
   "source": [
    "x = 1:10"
   ]
  },
  {
   "cell_type": "code",
   "execution_count": 113,
   "id": "0de189e7-0fee-4fa4-898a-02eca60b4540",
   "metadata": {},
   "outputs": [
    {
     "data": {
      "text/html": [
       "FALSE"
      ],
      "text/latex": [
       "FALSE"
      ],
      "text/markdown": [
       "FALSE"
      ],
      "text/plain": [
       "[1] FALSE"
      ]
     },
     "metadata": {},
     "output_type": "display_data"
    }
   ],
   "source": [
    "# 벡터 안의 모든 값이 5보다 클때만 True 리턴\n",
    "all(x>5)"
   ]
  },
  {
   "cell_type": "code",
   "execution_count": 114,
   "id": "2d4d1c0c-8c4a-4a29-8011-4a576b2d7106",
   "metadata": {},
   "outputs": [
    {
     "data": {
      "text/html": [
       "TRUE"
      ],
      "text/latex": [
       "TRUE"
      ],
      "text/markdown": [
       "TRUE"
      ],
      "text/plain": [
       "[1] TRUE"
      ]
     },
     "metadata": {},
     "output_type": "display_data"
    }
   ],
   "source": [
    "# 벡터 안의 값 중 하나만 5보다 크면 True 리턴\n",
    "any(x>5)"
   ]
  },
  {
   "cell_type": "markdown",
   "id": "6aee17ef-f9b4-4941-b6ab-a8c91a9954b9",
   "metadata": {},
   "source": [
    "### head, tail 함수"
   ]
  },
  {
   "cell_type": "code",
   "execution_count": 117,
   "id": "c49e43d3-1a79-454c-ade5-8bbde7347089",
   "metadata": {},
   "outputs": [
    {
     "name": "stdout",
     "output_type": "stream",
     "text": [
      "[1] 1 2 3 4 5 6\n",
      "[1]  5  6  7  8  9 10\n"
     ]
    }
   ],
   "source": [
    "# 데이터 앞, 뒤 일부 요소 추출\n",
    "print(head(x))\n",
    "print(tail(x))"
   ]
  },
  {
   "cell_type": "code",
   "execution_count": 118,
   "id": "c19d8c13-73a6-41b5-8f04-151e5c4bd6e6",
   "metadata": {},
   "outputs": [
    {
     "name": "stdout",
     "output_type": "stream",
     "text": [
      "[1] 1 2 3\n",
      "[1]  8  9 10\n"
     ]
    }
   ],
   "source": [
    "print(head(x, 3))\n",
    "print(tail(x, 3))"
   ]
  },
  {
   "cell_type": "markdown",
   "id": "81b5cf55-9bcb-41c6-818d-f81801362bf8",
   "metadata": {},
   "source": [
    "### 집합 연산"
   ]
  },
  {
   "cell_type": "code",
   "execution_count": 119,
   "id": "270e7c5d-8659-4aff-abe5-d4673ceeee03",
   "metadata": {},
   "outputs": [],
   "source": [
    "x = c(1,2,3)\n",
    "y = c(3,4,5)\n",
    "z = c(3,1,2)"
   ]
  },
  {
   "cell_type": "code",
   "execution_count": 140,
   "id": "35c1437b-d5c8-4b87-b640-0c1074bff515",
   "metadata": {},
   "outputs": [
    {
     "name": "stdout",
     "output_type": "stream",
     "text": [
      "[1] 3\n"
     ]
    }
   ],
   "source": [
    "# 교집합\n",
    "print(intersect(x,y))"
   ]
  },
  {
   "cell_type": "code",
   "execution_count": 141,
   "id": "ab45f6e0-bc95-4004-a18c-aba215ce19e3",
   "metadata": {},
   "outputs": [
    {
     "name": "stdout",
     "output_type": "stream",
     "text": [
      "[1] 1 2 3 4 5\n"
     ]
    }
   ],
   "source": [
    "# 합집합\n",
    "print(union(x,y))"
   ]
  },
  {
   "cell_type": "code",
   "execution_count": 142,
   "id": "29554ee1-2d96-4917-a65f-6a1e6063270b",
   "metadata": {},
   "outputs": [
    {
     "name": "stdout",
     "output_type": "stream",
     "text": [
      "[1] 1 2\n",
      "[1] 4 5\n"
     ]
    }
   ],
   "source": [
    "# 차집합\n",
    "print(setdiff(x,y))\n",
    "print(setdiff(y,x))"
   ]
  },
  {
   "cell_type": "code",
   "execution_count": 143,
   "id": "987fac3e-f617-4fe7-b3b7-578728bc7dd6",
   "metadata": {},
   "outputs": [
    {
     "name": "stdout",
     "output_type": "stream",
     "text": [
      "[1] FALSE\n",
      "[1] TRUE\n"
     ]
    }
   ],
   "source": [
    "# 집합 비교 연산\n",
    "print(setequal(x,y))\n",
    "print(setequal(x,z))"
   ]
  },
  {
   "cell_type": "markdown",
   "id": "475e707e-7de0-42fa-ae37-b3089e003e7c",
   "metadata": {},
   "source": [
    "# 배열"
   ]
  },
  {
   "cell_type": "markdown",
   "id": "51048cad-7986-4367-a65e-6c0229eadf1d",
   "metadata": {},
   "source": [
    "## 배열 생성 함수"
   ]
  },
  {
   "cell_type": "markdown",
   "id": "061a0ec2-6323-4e5a-a525-d3f4394865e6",
   "metadata": {},
   "source": [
    "### array 함수 : N차원 배열 생성"
   ]
  },
  {
   "cell_type": "code",
   "execution_count": 149,
   "id": "2ae63c61-292d-4fd3-a2e7-d3eae4447297",
   "metadata": {},
   "outputs": [
    {
     "data": {
      "text/html": [
       "<table>\n",
       "<tbody>\n",
       "\t<tr><td>1</td><td>3</td><td>5</td><td>2</td></tr>\n",
       "\t<tr><td>2</td><td>4</td><td>1</td><td>3</td></tr>\n",
       "</tbody>\n",
       "</table>\n"
      ],
      "text/latex": [
       "\\begin{tabular}{llll}\n",
       "\t 1 & 3 & 5 & 2\\\\\n",
       "\t 2 & 4 & 1 & 3\\\\\n",
       "\\end{tabular}\n"
      ],
      "text/markdown": [
       "\n",
       "| 1 | 3 | 5 | 2 |\n",
       "| 2 | 4 | 1 | 3 |\n",
       "\n"
      ],
      "text/plain": [
       "     [,1] [,2] [,3] [,4]\n",
       "[1,] 1    3    5    2   \n",
       "[2,] 2    4    1    3   "
      ]
     },
     "metadata": {},
     "output_type": "display_data"
    }
   ],
   "source": [
    "# 2행4열의 배열을 열부터 채움, 반복적으로 채움\n",
    "x = array(1:5, c(2,4))\n",
    "x"
   ]
  },
  {
   "cell_type": "code",
   "execution_count": 153,
   "id": "a44ad686-676e-4674-bdf8-235a93fb53f2",
   "metadata": {},
   "outputs": [
    {
     "name": "stdout",
     "output_type": "stream",
     "text": [
      "[1] 1 3 5 2\n"
     ]
    }
   ],
   "source": [
    "# 1행 전체\n",
    "print(x[1,])"
   ]
  },
  {
   "cell_type": "code",
   "execution_count": 155,
   "id": "fbfdec16-7117-40f7-b067-42e059e27505",
   "metadata": {},
   "outputs": [
    {
     "name": "stdout",
     "output_type": "stream",
     "text": [
      "[1] 3 4\n"
     ]
    }
   ],
   "source": [
    "# 2열 전체\n",
    "print(x[,2])"
   ]
  },
  {
   "cell_type": "markdown",
   "id": "905675ad-02d7-420c-a4c8-7bbded08f4e8",
   "metadata": {},
   "source": [
    "### matrix 함수 : 2차원 배열 생성"
   ]
  },
  {
   "cell_type": "code",
   "execution_count": 156,
   "id": "715d3427-a644-4ce1-8187-0306c326b722",
   "metadata": {},
   "outputs": [
    {
     "name": "stdout",
     "output_type": "stream",
     "text": [
      " [1]  1  2  3  4  5  6  7  8  9 10 11 12\n"
     ]
    }
   ],
   "source": [
    "x = 1:12\n",
    "print(x)"
   ]
  },
  {
   "cell_type": "code",
   "execution_count": 162,
   "id": "f252794c-be78-4ace-858a-dff2ed4d7f21",
   "metadata": {},
   "outputs": [
    {
     "data": {
      "text/html": [
       "<table>\n",
       "<tbody>\n",
       "\t<tr><td>1 </td><td>4 </td><td>7 </td><td>10</td></tr>\n",
       "\t<tr><td>2 </td><td>5 </td><td>8 </td><td>11</td></tr>\n",
       "\t<tr><td>3 </td><td>6 </td><td>9 </td><td>12</td></tr>\n",
       "</tbody>\n",
       "</table>\n"
      ],
      "text/latex": [
       "\\begin{tabular}{llll}\n",
       "\t 1  & 4  & 7  & 10\\\\\n",
       "\t 2  & 5  & 8  & 11\\\\\n",
       "\t 3  & 6  & 9  & 12\\\\\n",
       "\\end{tabular}\n"
      ],
      "text/markdown": [
       "\n",
       "| 1  | 4  | 7  | 10 |\n",
       "| 2  | 5  | 8  | 11 |\n",
       "| 3  | 6  | 9  | 12 |\n",
       "\n"
      ],
      "text/plain": [
       "     [,1] [,2] [,3] [,4]\n",
       "[1,] 1    4    7    10  \n",
       "[2,] 2    5    8    11  \n",
       "[3,] 3    6    9    12  "
      ]
     },
     "metadata": {},
     "output_type": "display_data"
    }
   ],
   "source": [
    "# 3행 데이터를 열부터 채워서 생성\n",
    "matrix(x, nrow=3)"
   ]
  },
  {
   "cell_type": "code",
   "execution_count": 163,
   "id": "27cc8c99-9ca4-4c84-9759-4333d1982f64",
   "metadata": {},
   "outputs": [
    {
     "data": {
      "text/html": [
       "<table>\n",
       "<tbody>\n",
       "\t<tr><td>1 </td><td> 2</td><td> 3</td><td> 4</td></tr>\n",
       "\t<tr><td>5 </td><td> 6</td><td> 7</td><td> 8</td></tr>\n",
       "\t<tr><td>9 </td><td>10</td><td>11</td><td>12</td></tr>\n",
       "</tbody>\n",
       "</table>\n"
      ],
      "text/latex": [
       "\\begin{tabular}{llll}\n",
       "\t 1  &  2 &  3 &  4\\\\\n",
       "\t 5  &  6 &  7 &  8\\\\\n",
       "\t 9  & 10 & 11 & 12\\\\\n",
       "\\end{tabular}\n"
      ],
      "text/markdown": [
       "\n",
       "| 1  |  2 |  3 |  4 |\n",
       "| 5  |  6 |  7 |  8 |\n",
       "| 9  | 10 | 11 | 12 |\n",
       "\n"
      ],
      "text/plain": [
       "     [,1] [,2] [,3] [,4]\n",
       "[1,] 1     2    3    4  \n",
       "[2,] 5     6    7    8  \n",
       "[3,] 9    10   11   12  "
      ]
     },
     "metadata": {},
     "output_type": "display_data"
    }
   ],
   "source": [
    "# byrow=T이면 행부터 먼저 채움\n",
    "matrix(x, nrow=3, byrow=T)"
   ]
  },
  {
   "cell_type": "markdown",
   "id": "9feef554-f6c7-4f9a-a4e0-8d6ca343ca52",
   "metadata": {},
   "source": [
    "### cbind, rbind 함수 : 열, 행 단위로 묶어 배열 생성"
   ]
  },
  {
   "cell_type": "code",
   "execution_count": 172,
   "id": "89ba7ce7-ba99-4ae1-b648-73d8c5463094",
   "metadata": {},
   "outputs": [],
   "source": [
    "v1 = c(1,2,3,4)\n",
    "v2 = c(5,6,7,8)\n",
    "v3 = c(9,10,11,12)"
   ]
  },
  {
   "cell_type": "code",
   "execution_count": 173,
   "id": "586e5582-e8f5-4bfa-92c8-48c9e3408549",
   "metadata": {},
   "outputs": [
    {
     "data": {
      "text/html": [
       "<table>\n",
       "<thead><tr><th scope=col>v1</th><th scope=col>v2</th><th scope=col>v3</th></tr></thead>\n",
       "<tbody>\n",
       "\t<tr><td>1 </td><td>5 </td><td> 9</td></tr>\n",
       "\t<tr><td>2 </td><td>6 </td><td>10</td></tr>\n",
       "\t<tr><td>3 </td><td>7 </td><td>11</td></tr>\n",
       "\t<tr><td>4 </td><td>8 </td><td>12</td></tr>\n",
       "</tbody>\n",
       "</table>\n"
      ],
      "text/latex": [
       "\\begin{tabular}{lll}\n",
       " v1 & v2 & v3\\\\\n",
       "\\hline\n",
       "\t 1  & 5  &  9\\\\\n",
       "\t 2  & 6  & 10\\\\\n",
       "\t 3  & 7  & 11\\\\\n",
       "\t 4  & 8  & 12\\\\\n",
       "\\end{tabular}\n"
      ],
      "text/markdown": [
       "\n",
       "| v1 | v2 | v3 |\n",
       "|---|---|---|\n",
       "| 1  | 5  |  9 |\n",
       "| 2  | 6  | 10 |\n",
       "| 3  | 7  | 11 |\n",
       "| 4  | 8  | 12 |\n",
       "\n"
      ],
      "text/plain": [
       "     v1 v2 v3\n",
       "[1,] 1  5   9\n",
       "[2,] 2  6  10\n",
       "[3,] 3  7  11\n",
       "[4,] 4  8  12"
      ]
     },
     "metadata": {},
     "output_type": "display_data"
    }
   ],
   "source": [
    "# 열단위 concat\n",
    "cbind(v1,v2,v3)"
   ]
  },
  {
   "cell_type": "code",
   "execution_count": 187,
   "id": "b2c87e25-8155-4a90-888e-72ec5f3bebbe",
   "metadata": {},
   "outputs": [
    {
     "data": {
      "text/html": [
       "<table>\n",
       "<tbody>\n",
       "\t<tr><th scope=row>v1</th><td>1 </td><td> 2</td><td> 3</td><td> 4</td></tr>\n",
       "\t<tr><th scope=row>v2</th><td>5 </td><td> 6</td><td> 7</td><td> 8</td></tr>\n",
       "\t<tr><th scope=row>v3</th><td>9 </td><td>10</td><td>11</td><td>12</td></tr>\n",
       "</tbody>\n",
       "</table>\n"
      ],
      "text/latex": [
       "\\begin{tabular}{r|llll}\n",
       "\tv1 & 1  &  2 &  3 &  4\\\\\n",
       "\tv2 & 5  &  6 &  7 &  8\\\\\n",
       "\tv3 & 9  & 10 & 11 & 12\\\\\n",
       "\\end{tabular}\n"
      ],
      "text/markdown": [
       "\n",
       "| v1 | 1  |  2 |  3 |  4 |\n",
       "| v2 | 5  |  6 |  7 |  8 |\n",
       "| v3 | 9  | 10 | 11 | 12 |\n",
       "\n"
      ],
      "text/plain": [
       "   [,1] [,2] [,3] [,4]\n",
       "v1 1     2    3    4  \n",
       "v2 5     6    7    8  \n",
       "v3 9    10   11   12  "
      ]
     },
     "metadata": {},
     "output_type": "display_data"
    }
   ],
   "source": [
    "# 행단위 concat\n",
    "rbind(v1,v2,v3)"
   ]
  },
  {
   "cell_type": "markdown",
   "id": "63dd6ee4-7011-4ff7-855a-a9238ab5008e",
   "metadata": {},
   "source": [
    "## 배열 연산 "
   ]
  },
  {
   "cell_type": "code",
   "execution_count": 188,
   "id": "b3388d47-bfa7-4e1e-8a1c-0c9d223aafe6",
   "metadata": {},
   "outputs": [],
   "source": [
    "x = array(1:4, dim=c(2,2))\n",
    "y = array(5:8, dim=c(2,2))"
   ]
  },
  {
   "cell_type": "code",
   "execution_count": 189,
   "id": "1cc0e9ee-9f93-4935-8571-a6b1debf44c0",
   "metadata": {},
   "outputs": [
    {
     "data": {
      "text/html": [
       "<table>\n",
       "<tbody>\n",
       "\t<tr><td>1</td><td>3</td></tr>\n",
       "\t<tr><td>2</td><td>4</td></tr>\n",
       "</tbody>\n",
       "</table>\n"
      ],
      "text/latex": [
       "\\begin{tabular}{ll}\n",
       "\t 1 & 3\\\\\n",
       "\t 2 & 4\\\\\n",
       "\\end{tabular}\n"
      ],
      "text/markdown": [
       "\n",
       "| 1 | 3 |\n",
       "| 2 | 4 |\n",
       "\n"
      ],
      "text/plain": [
       "     [,1] [,2]\n",
       "[1,] 1    3   \n",
       "[2,] 2    4   "
      ]
     },
     "metadata": {},
     "output_type": "display_data"
    }
   ],
   "source": [
    "x"
   ]
  },
  {
   "cell_type": "code",
   "execution_count": 190,
   "id": "9646cb0d-eea1-4b9f-82b3-70c50f9acf0c",
   "metadata": {},
   "outputs": [
    {
     "data": {
      "text/html": [
       "<table>\n",
       "<tbody>\n",
       "\t<tr><td>5</td><td>7</td></tr>\n",
       "\t<tr><td>6</td><td>8</td></tr>\n",
       "</tbody>\n",
       "</table>\n"
      ],
      "text/latex": [
       "\\begin{tabular}{ll}\n",
       "\t 5 & 7\\\\\n",
       "\t 6 & 8\\\\\n",
       "\\end{tabular}\n"
      ],
      "text/markdown": [
       "\n",
       "| 5 | 7 |\n",
       "| 6 | 8 |\n",
       "\n"
      ],
      "text/plain": [
       "     [,1] [,2]\n",
       "[1,] 5    7   \n",
       "[2,] 6    8   "
      ]
     },
     "metadata": {},
     "output_type": "display_data"
    }
   ],
   "source": [
    "y"
   ]
  },
  {
   "cell_type": "code",
   "execution_count": 192,
   "id": "f9fec15c-c821-4e52-b2eb-f6834f0cb87f",
   "metadata": {},
   "outputs": [
    {
     "data": {
      "text/html": [
       "<table>\n",
       "<tbody>\n",
       "\t<tr><td>6 </td><td>10</td></tr>\n",
       "\t<tr><td>8 </td><td>12</td></tr>\n",
       "</tbody>\n",
       "</table>\n"
      ],
      "text/latex": [
       "\\begin{tabular}{ll}\n",
       "\t 6  & 10\\\\\n",
       "\t 8  & 12\\\\\n",
       "\\end{tabular}\n"
      ],
      "text/markdown": [
       "\n",
       "| 6  | 10 |\n",
       "| 8  | 12 |\n",
       "\n"
      ],
      "text/plain": [
       "     [,1] [,2]\n",
       "[1,] 6    10  \n",
       "[2,] 8    12  "
      ]
     },
     "metadata": {},
     "output_type": "display_data"
    }
   ],
   "source": [
    "# 요소 합\n",
    "x + y"
   ]
  },
  {
   "cell_type": "code",
   "execution_count": 193,
   "id": "0dd95a67-8113-4088-b122-d2bf48137ee8",
   "metadata": {},
   "outputs": [
    {
     "data": {
      "text/html": [
       "<table>\n",
       "<tbody>\n",
       "\t<tr><td>-4</td><td>-4</td></tr>\n",
       "\t<tr><td>-4</td><td>-4</td></tr>\n",
       "</tbody>\n",
       "</table>\n"
      ],
      "text/latex": [
       "\\begin{tabular}{ll}\n",
       "\t -4 & -4\\\\\n",
       "\t -4 & -4\\\\\n",
       "\\end{tabular}\n"
      ],
      "text/markdown": [
       "\n",
       "| -4 | -4 |\n",
       "| -4 | -4 |\n",
       "\n"
      ],
      "text/plain": [
       "     [,1] [,2]\n",
       "[1,] -4   -4  \n",
       "[2,] -4   -4  "
      ]
     },
     "metadata": {},
     "output_type": "display_data"
    }
   ],
   "source": [
    "# 요소 차\n",
    "x - y"
   ]
  },
  {
   "cell_type": "code",
   "execution_count": 194,
   "id": "016ef136-73c1-4922-8706-58ff886813ef",
   "metadata": {},
   "outputs": [
    {
     "data": {
      "text/html": [
       "<table>\n",
       "<tbody>\n",
       "\t<tr><td> 5</td><td>21</td></tr>\n",
       "\t<tr><td>12</td><td>32</td></tr>\n",
       "</tbody>\n",
       "</table>\n"
      ],
      "text/latex": [
       "\\begin{tabular}{ll}\n",
       "\t  5 & 21\\\\\n",
       "\t 12 & 32\\\\\n",
       "\\end{tabular}\n"
      ],
      "text/markdown": [
       "\n",
       "|  5 | 21 |\n",
       "| 12 | 32 |\n",
       "\n"
      ],
      "text/plain": [
       "     [,1] [,2]\n",
       "[1,]  5   21  \n",
       "[2,] 12   32  "
      ]
     },
     "metadata": {},
     "output_type": "display_data"
    }
   ],
   "source": [
    "# 요소 곱\n",
    "x * y"
   ]
  },
  {
   "cell_type": "code",
   "execution_count": 195,
   "id": "9ebc9ca9-ee13-4660-a1b5-ccf219172816",
   "metadata": {},
   "outputs": [
    {
     "data": {
      "text/html": [
       "<table>\n",
       "<tbody>\n",
       "\t<tr><td>23</td><td>31</td></tr>\n",
       "\t<tr><td>34</td><td>46</td></tr>\n",
       "</tbody>\n",
       "</table>\n"
      ],
      "text/latex": [
       "\\begin{tabular}{ll}\n",
       "\t 23 & 31\\\\\n",
       "\t 34 & 46\\\\\n",
       "\\end{tabular}\n"
      ],
      "text/markdown": [
       "\n",
       "| 23 | 31 |\n",
       "| 34 | 46 |\n",
       "\n"
      ],
      "text/plain": [
       "     [,1] [,2]\n",
       "[1,] 23   31  \n",
       "[2,] 34   46  "
      ]
     },
     "metadata": {},
     "output_type": "display_data"
    }
   ],
   "source": [
    "# 행렬 곱\n",
    "x %*% y"
   ]
  },
  {
   "cell_type": "code",
   "execution_count": 196,
   "id": "fdafdd46-9cf4-4b11-a366-a6d6106bd85f",
   "metadata": {},
   "outputs": [
    {
     "data": {
      "text/html": [
       "<table>\n",
       "<tbody>\n",
       "\t<tr><td>1</td><td>2</td></tr>\n",
       "\t<tr><td>3</td><td>4</td></tr>\n",
       "</tbody>\n",
       "</table>\n"
      ],
      "text/latex": [
       "\\begin{tabular}{ll}\n",
       "\t 1 & 2\\\\\n",
       "\t 3 & 4\\\\\n",
       "\\end{tabular}\n"
      ],
      "text/markdown": [
       "\n",
       "| 1 | 2 |\n",
       "| 3 | 4 |\n",
       "\n"
      ],
      "text/plain": [
       "     [,1] [,2]\n",
       "[1,] 1    2   \n",
       "[2,] 3    4   "
      ]
     },
     "metadata": {},
     "output_type": "display_data"
    }
   ],
   "source": [
    "# Transpose\n",
    "t(x)"
   ]
  },
  {
   "cell_type": "code",
   "execution_count": 197,
   "id": "2abfbc3d-45aa-473c-a262-34206db2c57c",
   "metadata": {},
   "outputs": [
    {
     "data": {
      "text/html": [
       "<table>\n",
       "<tbody>\n",
       "\t<tr><td>-2  </td><td> 1.5</td></tr>\n",
       "\t<tr><td> 1  </td><td>-0.5</td></tr>\n",
       "</tbody>\n",
       "</table>\n"
      ],
      "text/latex": [
       "\\begin{tabular}{ll}\n",
       "\t -2   &  1.5\\\\\n",
       "\t  1   & -0.5\\\\\n",
       "\\end{tabular}\n"
      ],
      "text/markdown": [
       "\n",
       "| -2   |  1.5 |\n",
       "|  1   | -0.5 |\n",
       "\n"
      ],
      "text/plain": [
       "     [,1] [,2]\n",
       "[1,] -2    1.5\n",
       "[2,]  1   -0.5"
      ]
     },
     "metadata": {},
     "output_type": "display_data"
    }
   ],
   "source": [
    "# 역행렬\n",
    "solve(x)"
   ]
  },
  {
   "cell_type": "code",
   "execution_count": 198,
   "id": "c5286127-db87-46ff-b916-e48612d69bf2",
   "metadata": {},
   "outputs": [
    {
     "data": {
      "text/html": [
       "-2"
      ],
      "text/latex": [
       "-2"
      ],
      "text/markdown": [
       "-2"
      ],
      "text/plain": [
       "[1] -2"
      ]
     },
     "metadata": {},
     "output_type": "display_data"
    }
   ],
   "source": [
    "# determinant\n",
    "det(x)"
   ]
  },
  {
   "cell_type": "markdown",
   "id": "ef905d4f-5e0d-43f2-836b-053a0ab7476a",
   "metadata": {},
   "source": [
    "###  유용한 함수"
   ]
  },
  {
   "cell_type": "markdown",
   "id": "81ddfbc8-d242-4931-b702-f8972186f1e2",
   "metadata": {},
   "source": [
    "#### apply 함수 : 배열의 행별 또는 열별 연산"
   ]
  },
  {
   "cell_type": "code",
   "execution_count": 205,
   "id": "adf35c7a-c121-46cc-9866-7d5d32c7bb50",
   "metadata": {},
   "outputs": [
    {
     "data": {
      "text/html": [
       "<table>\n",
       "<tbody>\n",
       "\t<tr><td>1 </td><td>4 </td><td>7 </td><td>10</td></tr>\n",
       "\t<tr><td>2 </td><td>5 </td><td>8 </td><td>11</td></tr>\n",
       "\t<tr><td>3 </td><td>6 </td><td>9 </td><td>12</td></tr>\n",
       "</tbody>\n",
       "</table>\n"
      ],
      "text/latex": [
       "\\begin{tabular}{llll}\n",
       "\t 1  & 4  & 7  & 10\\\\\n",
       "\t 2  & 5  & 8  & 11\\\\\n",
       "\t 3  & 6  & 9  & 12\\\\\n",
       "\\end{tabular}\n"
      ],
      "text/markdown": [
       "\n",
       "| 1  | 4  | 7  | 10 |\n",
       "| 2  | 5  | 8  | 11 |\n",
       "| 3  | 6  | 9  | 12 |\n",
       "\n"
      ],
      "text/plain": [
       "     [,1] [,2] [,3] [,4]\n",
       "[1,] 1    4    7    10  \n",
       "[2,] 2    5    8    11  \n",
       "[3,] 3    6    9    12  "
      ]
     },
     "metadata": {},
     "output_type": "display_data"
    }
   ],
   "source": [
    "x = array(1:12, c(3,4))\n",
    "x"
   ]
  },
  {
   "cell_type": "code",
   "execution_count": 206,
   "id": "8df40490-366c-4c85-8a9d-e495a291d42f",
   "metadata": {},
   "outputs": [
    {
     "name": "stdout",
     "output_type": "stream",
     "text": [
      "[1] 5.5 6.5 7.5\n"
     ]
    }
   ],
   "source": [
    "# 열별 평균\n",
    "print(apply(x, 1, mean))"
   ]
  },
  {
   "cell_type": "code",
   "execution_count": 207,
   "id": "4627f430-2e2d-4883-9545-e34ef7cbfd9f",
   "metadata": {},
   "outputs": [
    {
     "name": "stdout",
     "output_type": "stream",
     "text": [
      "[1]  2  5  8 11\n"
     ]
    }
   ],
   "source": [
    "# 행별 평균\n",
    "print(apply(x, 2, mean))"
   ]
  },
  {
   "cell_type": "markdown",
   "id": "3fb148a8-b111-4cbe-91b5-c1dedd1ee0b4",
   "metadata": {},
   "source": [
    "#### dim함수 : 배열의 크기 (차원의 수) "
   ]
  },
  {
   "cell_type": "code",
   "execution_count": 211,
   "id": "32225217-723f-4590-93fa-4c25b909f33c",
   "metadata": {},
   "outputs": [
    {
     "name": "stdout",
     "output_type": "stream",
     "text": [
      "[1] 3 4\n"
     ]
    }
   ],
   "source": [
    "# 3행 4열\n",
    "print(dim(x))"
   ]
  },
  {
   "cell_type": "markdown",
   "id": "72449c74-75f5-42e7-a2c7-ef85fa6c5d5c",
   "metadata": {},
   "source": [
    "#### sample 함수"
   ]
  },
  {
   "cell_type": "code",
   "execution_count": 212,
   "id": "e8498308-9b57-408b-babf-d5120ef6c209",
   "metadata": {},
   "outputs": [],
   "source": [
    "x = array(1:12, c(3,4))"
   ]
  },
  {
   "cell_type": "code",
   "execution_count": 215,
   "id": "fb971840-ab2e-4d90-b2dd-00ec221a44f3",
   "metadata": {},
   "outputs": [
    {
     "data": {
      "text/html": [
       "<table>\n",
       "<tbody>\n",
       "\t<tr><td>1 </td><td>4 </td><td>7 </td><td>10</td></tr>\n",
       "\t<tr><td>2 </td><td>5 </td><td>8 </td><td>11</td></tr>\n",
       "\t<tr><td>3 </td><td>6 </td><td>9 </td><td>12</td></tr>\n",
       "</tbody>\n",
       "</table>\n"
      ],
      "text/latex": [
       "\\begin{tabular}{llll}\n",
       "\t 1  & 4  & 7  & 10\\\\\n",
       "\t 2  & 5  & 8  & 11\\\\\n",
       "\t 3  & 6  & 9  & 12\\\\\n",
       "\\end{tabular}\n"
      ],
      "text/markdown": [
       "\n",
       "| 1  | 4  | 7  | 10 |\n",
       "| 2  | 5  | 8  | 11 |\n",
       "| 3  | 6  | 9  | 12 |\n",
       "\n"
      ],
      "text/plain": [
       "     [,1] [,2] [,3] [,4]\n",
       "[1,] 1    4    7    10  \n",
       "[2,] 2    5    8    11  \n",
       "[3,] 3    6    9    12  "
      ]
     },
     "metadata": {},
     "output_type": "display_data"
    }
   ],
   "source": [
    "x"
   ]
  },
  {
   "cell_type": "code",
   "execution_count": 220,
   "id": "1bee744a-a56d-4fd3-b7aa-f5b5d8501209",
   "metadata": {},
   "outputs": [
    {
     "name": "stdout",
     "output_type": "stream",
     "text": [
      " [1]  3  2  6  9  1 11  8  5  7  4 10 12\n"
     ]
    }
   ],
   "source": [
    "# x 배열 안에 있는 값을 무작위 sampling\n",
    "print(sample(x))"
   ]
  },
  {
   "cell_type": "code",
   "execution_count": 221,
   "id": "d2403c7f-372f-452c-b1be-67d83901caba",
   "metadata": {},
   "outputs": [
    {
     "name": "stdout",
     "output_type": "stream",
     "text": [
      " [1]  1  3  9  7  8  5  6  4 10 12\n"
     ]
    }
   ],
   "source": [
    "# x 배열 안에서 10개 sampling\n",
    "print(sample(x,10))"
   ]
  },
  {
   "cell_type": "code",
   "execution_count": 256,
   "id": "990495eb-30d1-4211-952a-1ab0f4e36c52",
   "metadata": {},
   "outputs": [
    {
     "data": {
      "text/html": [
       "6.5"
      ],
      "text/latex": [
       "6.5"
      ],
      "text/markdown": [
       "6.5"
      ],
      "text/plain": [
       "[1] 6.5"
      ]
     },
     "metadata": {},
     "output_type": "display_data"
    }
   ],
   "source": [
    "mean(sample(x,10))"
   ]
  },
  {
   "cell_type": "code",
   "execution_count": 257,
   "id": "4f5b0ad1-5d2d-4f52-aaea-e7c992ec7746",
   "metadata": {},
   "outputs": [
    {
     "data": {
      "text/html": [
       "7.2"
      ],
      "text/latex": [
       "7.2"
      ],
      "text/markdown": [
       "7.2"
      ],
      "text/plain": [
       "[1] 7.2"
      ]
     },
     "metadata": {},
     "output_type": "display_data"
    }
   ],
   "source": [
    "# 각 요소에 대한 확률을 벡터 형태로 전달한다. 아래 경우 높은 숫자일수록 등장할 확률이 높아진다.\n",
    "mean(sample(x,10,prob=c(1:12)/24))"
   ]
  },
  {
   "cell_type": "code",
   "execution_count": 222,
   "id": "5fc117b9-de11-4ac5-93c9-ccae8fa02c13",
   "metadata": {},
   "outputs": [
    {
     "name": "stdout",
     "output_type": "stream",
     "text": [
      " [1]  5  9 10  8  6  2  4  3  1  7\n"
     ]
    }
   ],
   "source": [
    "# 1~10까지 수에 대한 샘플\n",
    "print(sample(10))"
   ]
  },
  {
   "cell_type": "markdown",
   "id": "cb78a991-a586-4da4-ad83-ac8c421d1f12",
   "metadata": {
    "tags": []
   },
   "source": [
    "# 데이터프레임"
   ]
  },
  {
   "cell_type": "markdown",
   "id": "0b1803d5-ebb2-4527-aa0d-63ae4401d5f2",
   "metadata": {},
   "source": [
    "## 데이터 프레임 생성"
   ]
  },
  {
   "cell_type": "code",
   "execution_count": 231,
   "id": "6d73233b-d55f-4210-8a19-addc9574f794",
   "metadata": {},
   "outputs": [],
   "source": [
    "name = c(\"철수\", \"춘향\", \"길동\")\n",
    "age = c(22, 20, 25)\n",
    "gender = factor(c(\"M\",\"F\",\"M\"))\n",
    "blood.type = factor(c(\"A\",\"O\",\"B\"))"
   ]
  },
  {
   "cell_type": "code",
   "execution_count": 268,
   "id": "6a991fc5-be65-4b44-9757-8731530694b5",
   "metadata": {},
   "outputs": [],
   "source": [
    "partients = data.frame(name, age, gender, blood.type)"
   ]
  },
  {
   "cell_type": "code",
   "execution_count": 269,
   "id": "af17f68e-920d-492c-86b1-88a0e01f5632",
   "metadata": {},
   "outputs": [
    {
     "data": {
      "text/html": [
       "<table>\n",
       "<thead><tr><th scope=col>name</th><th scope=col>age</th><th scope=col>gender</th><th scope=col>blood.type</th></tr></thead>\n",
       "<tbody>\n",
       "\t<tr><td>철수</td><td>22  </td><td>M   </td><td>A   </td></tr>\n",
       "\t<tr><td>춘향</td><td>20  </td><td>F   </td><td>O   </td></tr>\n",
       "\t<tr><td>길동</td><td>25  </td><td>M   </td><td>B   </td></tr>\n",
       "</tbody>\n",
       "</table>\n"
      ],
      "text/latex": [
       "\\begin{tabular}{r|llll}\n",
       " name & age & gender & blood.type\\\\\n",
       "\\hline\n",
       "\t 철수 & 22   & M    & A   \\\\\n",
       "\t 춘향 & 20   & F    & O   \\\\\n",
       "\t 길동 & 25   & M    & B   \\\\\n",
       "\\end{tabular}\n"
      ],
      "text/markdown": [
       "\n",
       "| name | age | gender | blood.type |\n",
       "|---|---|---|---|\n",
       "| 철수 | 22   | M    | A    |\n",
       "| 춘향 | 20   | F    | O    |\n",
       "| 길동 | 25   | M    | B    |\n",
       "\n"
      ],
      "text/plain": [
       "  name age gender blood.type\n",
       "1 철수 22  M      A         \n",
       "2 춘향 20  F      O         \n",
       "3 길동 25  M      B         "
      ]
     },
     "metadata": {},
     "output_type": "display_data"
    }
   ],
   "source": [
    "partients"
   ]
  },
  {
   "cell_type": "markdown",
   "id": "be47e741-d4f8-45ad-a343-50fb609b172b",
   "metadata": {},
   "source": [
    "##  데이터프레임 요소 접근"
   ]
  },
  {
   "cell_type": "code",
   "execution_count": 270,
   "id": "34a1898f-1a68-460f-95b5-68fafeb773ee",
   "metadata": {},
   "outputs": [
    {
     "name": "stdout",
     "output_type": "stream",
     "text": [
      "  name age gender blood.type\n",
      "1 철수  22      M          A\n"
     ]
    }
   ],
   "source": [
    "print(partients[1,])"
   ]
  },
  {
   "cell_type": "code",
   "execution_count": 271,
   "id": "35cefd07-c731-4183-8f17-41b2e0210c7d",
   "metadata": {},
   "outputs": [
    {
     "name": "stdout",
     "output_type": "stream",
     "text": [
      "[1] 철수 춘향 길동\n",
      "Levels: 길동 철수 춘향\n"
     ]
    }
   ],
   "source": [
    "print(partients[,1])"
   ]
  },
  {
   "cell_type": "code",
   "execution_count": 272,
   "id": "c9375fb3-6667-4dbb-bd36-a123939231a6",
   "metadata": {},
   "outputs": [
    {
     "name": "stdout",
     "output_type": "stream",
     "text": [
      "[1] 길동\n",
      "Levels: 길동 철수 춘향\n"
     ]
    }
   ],
   "source": [
    "print(partients[3,1])"
   ]
  },
  {
   "cell_type": "code",
   "execution_count": 275,
   "id": "a21f6ec7-a508-4c64-89dd-df1238170739",
   "metadata": {},
   "outputs": [
    {
     "name": "stdout",
     "output_type": "stream",
     "text": [
      "  name age gender blood.type\n",
      "1 철수  22      M          A\n"
     ]
    }
   ],
   "source": [
    "print(partients[partients$name==\"철수\",])"
   ]
  },
  {
   "cell_type": "code",
   "execution_count": 276,
   "id": "62488639-cbfd-4682-9438-fb04239cb731",
   "metadata": {},
   "outputs": [
    {
     "name": "stdout",
     "output_type": "stream",
     "text": [
      "  name age\n",
      "1 철수  22\n"
     ]
    }
   ],
   "source": [
    "print(partients[partients$name==\"철수\", c(\"name\", \"age\")])"
   ]
  },
  {
   "cell_type": "markdown",
   "id": "68775347-2adc-4ed2-9830-717c8718ba9c",
   "metadata": {},
   "source": [
    "## 유용한 함수 "
   ]
  },
  {
   "cell_type": "markdown",
   "id": "e759fb43-b2e5-4968-9d7e-dab9923c399d",
   "metadata": {},
   "source": [
    "### subset"
   ]
  },
  {
   "cell_type": "code",
   "execution_count": 7,
   "id": "947651aa-34cf-498e-8250-4552829a4644",
   "metadata": {},
   "outputs": [
    {
     "data": {
      "text/html": [
       "<table>\n",
       "<thead><tr><th></th><th scope=col>speed</th><th scope=col>dist</th></tr></thead>\n",
       "<tbody>\n",
       "\t<tr><th scope=row>44</th><td>22 </td><td> 66</td></tr>\n",
       "\t<tr><th scope=row>45</th><td>23 </td><td> 54</td></tr>\n",
       "\t<tr><th scope=row>46</th><td>24 </td><td> 70</td></tr>\n",
       "\t<tr><th scope=row>47</th><td>24 </td><td> 92</td></tr>\n",
       "\t<tr><th scope=row>48</th><td>24 </td><td> 93</td></tr>\n",
       "\t<tr><th scope=row>49</th><td>24 </td><td>120</td></tr>\n",
       "\t<tr><th scope=row>50</th><td>25 </td><td> 85</td></tr>\n",
       "</tbody>\n",
       "</table>\n"
      ],
      "text/latex": [
       "\\begin{tabular}{r|ll}\n",
       "  & speed & dist\\\\\n",
       "\\hline\n",
       "\t44 & 22  &  66\\\\\n",
       "\t45 & 23  &  54\\\\\n",
       "\t46 & 24  &  70\\\\\n",
       "\t47 & 24  &  92\\\\\n",
       "\t48 & 24  &  93\\\\\n",
       "\t49 & 24  & 120\\\\\n",
       "\t50 & 25  &  85\\\\\n",
       "\\end{tabular}\n"
      ],
      "text/markdown": [
       "\n",
       "| <!--/--> | speed | dist |\n",
       "|---|---|---|\n",
       "| 44 | 22  |  66 |\n",
       "| 45 | 23  |  54 |\n",
       "| 46 | 24  |  70 |\n",
       "| 47 | 24  |  92 |\n",
       "| 48 | 24  |  93 |\n",
       "| 49 | 24  | 120 |\n",
       "| 50 | 25  |  85 |\n",
       "\n"
      ],
      "text/plain": [
       "   speed dist\n",
       "44 22     66 \n",
       "45 23     54 \n",
       "46 24     70 \n",
       "47 24     92 \n",
       "48 24     93 \n",
       "49 24    120 \n",
       "50 25     85 "
      ]
     },
     "metadata": {},
     "output_type": "display_data"
    }
   ],
   "source": [
    "# subset : 조건에 맞는 행만 출력\n",
    "subset(cars, speed > 20)"
   ]
  },
  {
   "cell_type": "code",
   "execution_count": 8,
   "id": "280bd61c-3892-41bf-adc3-c7f2c7b4be15",
   "metadata": {},
   "outputs": [
    {
     "data": {
      "text/html": [
       "<table>\n",
       "<thead><tr><th></th><th scope=col>dist</th></tr></thead>\n",
       "<tbody>\n",
       "\t<tr><th scope=row>44</th><td> 66</td></tr>\n",
       "\t<tr><th scope=row>45</th><td> 54</td></tr>\n",
       "\t<tr><th scope=row>46</th><td> 70</td></tr>\n",
       "\t<tr><th scope=row>47</th><td> 92</td></tr>\n",
       "\t<tr><th scope=row>48</th><td> 93</td></tr>\n",
       "\t<tr><th scope=row>49</th><td>120</td></tr>\n",
       "\t<tr><th scope=row>50</th><td> 85</td></tr>\n",
       "</tbody>\n",
       "</table>\n"
      ],
      "text/latex": [
       "\\begin{tabular}{r|l}\n",
       "  & dist\\\\\n",
       "\\hline\n",
       "\t44 &  66\\\\\n",
       "\t45 &  54\\\\\n",
       "\t46 &  70\\\\\n",
       "\t47 &  92\\\\\n",
       "\t48 &  93\\\\\n",
       "\t49 & 120\\\\\n",
       "\t50 &  85\\\\\n",
       "\\end{tabular}\n"
      ],
      "text/markdown": [
       "\n",
       "| <!--/--> | dist |\n",
       "|---|---|\n",
       "| 44 |  66 |\n",
       "| 45 |  54 |\n",
       "| 46 |  70 |\n",
       "| 47 |  92 |\n",
       "| 48 |  93 |\n",
       "| 49 | 120 |\n",
       "| 50 |  85 |\n",
       "\n"
      ],
      "text/plain": [
       "   dist\n",
       "44  66 \n",
       "45  54 \n",
       "46  70 \n",
       "47  92 \n",
       "48  93 \n",
       "49 120 \n",
       "50  85 "
      ]
     },
     "metadata": {},
     "output_type": "display_data"
    }
   ],
   "source": [
    "# select : 열선택\n",
    "subset(cars, speed > 20, select = c(dist))"
   ]
  },
  {
   "cell_type": "code",
   "execution_count": 9,
   "id": "0519ced4-3a1c-4a18-aa13-b7cc2ab5de46",
   "metadata": {},
   "outputs": [
    {
     "data": {
      "text/html": [
       "<table>\n",
       "<thead><tr><th></th><th scope=col>speed</th></tr></thead>\n",
       "<tbody>\n",
       "\t<tr><th scope=row>44</th><td>22</td></tr>\n",
       "\t<tr><th scope=row>45</th><td>23</td></tr>\n",
       "\t<tr><th scope=row>46</th><td>24</td></tr>\n",
       "\t<tr><th scope=row>47</th><td>24</td></tr>\n",
       "\t<tr><th scope=row>48</th><td>24</td></tr>\n",
       "\t<tr><th scope=row>49</th><td>24</td></tr>\n",
       "\t<tr><th scope=row>50</th><td>25</td></tr>\n",
       "</tbody>\n",
       "</table>\n"
      ],
      "text/latex": [
       "\\begin{tabular}{r|l}\n",
       "  & speed\\\\\n",
       "\\hline\n",
       "\t44 & 22\\\\\n",
       "\t45 & 23\\\\\n",
       "\t46 & 24\\\\\n",
       "\t47 & 24\\\\\n",
       "\t48 & 24\\\\\n",
       "\t49 & 24\\\\\n",
       "\t50 & 25\\\\\n",
       "\\end{tabular}\n"
      ],
      "text/markdown": [
       "\n",
       "| <!--/--> | speed |\n",
       "|---|---|\n",
       "| 44 | 22 |\n",
       "| 45 | 23 |\n",
       "| 46 | 24 |\n",
       "| 47 | 24 |\n",
       "| 48 | 24 |\n",
       "| 49 | 24 |\n",
       "| 50 | 25 |\n",
       "\n"
      ],
      "text/plain": [
       "   speed\n",
       "44 22   \n",
       "45 23   \n",
       "46 24   \n",
       "47 24   \n",
       "48 24   \n",
       "49 24   \n",
       "50 25   "
      ]
     },
     "metadata": {},
     "output_type": "display_data"
    }
   ],
   "source": [
    "# select - : 해당 열 제외하고 select\n",
    "subset(cars, speed > 20, select = -c(dist))"
   ]
  },
  {
   "cell_type": "markdown",
   "id": "22e715e9-f327-4fab-a01f-52736074183c",
   "metadata": {},
   "source": [
    "### omit"
   ]
  },
  {
   "cell_type": "code",
   "execution_count": 14,
   "id": "f83985a9-d983-4906-962e-cfa87210965e",
   "metadata": {},
   "outputs": [
    {
     "data": {
      "text/html": [
       "<table>\n",
       "<thead><tr><th scope=col>Ozone</th><th scope=col>Solar.R</th><th scope=col>Wind</th><th scope=col>Temp</th><th scope=col>Month</th><th scope=col>Day</th></tr></thead>\n",
       "<tbody>\n",
       "\t<tr><td>41  </td><td>190 </td><td> 7.4</td><td>67  </td><td>5   </td><td>1   </td></tr>\n",
       "\t<tr><td>36  </td><td>118 </td><td> 8.0</td><td>72  </td><td>5   </td><td>2   </td></tr>\n",
       "\t<tr><td>12  </td><td>149 </td><td>12.6</td><td>74  </td><td>5   </td><td>3   </td></tr>\n",
       "\t<tr><td>18  </td><td>313 </td><td>11.5</td><td>62  </td><td>5   </td><td>4   </td></tr>\n",
       "\t<tr><td>NA  </td><td> NA </td><td>14.3</td><td>56  </td><td>5   </td><td>5   </td></tr>\n",
       "\t<tr><td>28  </td><td> NA </td><td>14.9</td><td>66  </td><td>5   </td><td>6   </td></tr>\n",
       "</tbody>\n",
       "</table>\n"
      ],
      "text/latex": [
       "\\begin{tabular}{r|llllll}\n",
       " Ozone & Solar.R & Wind & Temp & Month & Day\\\\\n",
       "\\hline\n",
       "\t 41   & 190  &  7.4 & 67   & 5    & 1   \\\\\n",
       "\t 36   & 118  &  8.0 & 72   & 5    & 2   \\\\\n",
       "\t 12   & 149  & 12.6 & 74   & 5    & 3   \\\\\n",
       "\t 18   & 313  & 11.5 & 62   & 5    & 4   \\\\\n",
       "\t NA   &  NA  & 14.3 & 56   & 5    & 5   \\\\\n",
       "\t 28   &  NA  & 14.9 & 66   & 5    & 6   \\\\\n",
       "\\end{tabular}\n"
      ],
      "text/markdown": [
       "\n",
       "| Ozone | Solar.R | Wind | Temp | Month | Day |\n",
       "|---|---|---|---|---|---|\n",
       "| 41   | 190  |  7.4 | 67   | 5    | 1    |\n",
       "| 36   | 118  |  8.0 | 72   | 5    | 2    |\n",
       "| 12   | 149  | 12.6 | 74   | 5    | 3    |\n",
       "| 18   | 313  | 11.5 | 62   | 5    | 4    |\n",
       "| NA   |  NA  | 14.3 | 56   | 5    | 5    |\n",
       "| 28   |  NA  | 14.9 | 66   | 5    | 6    |\n",
       "\n"
      ],
      "text/plain": [
       "  Ozone Solar.R Wind Temp Month Day\n",
       "1 41    190      7.4 67   5     1  \n",
       "2 36    118      8.0 72   5     2  \n",
       "3 12    149     12.6 74   5     3  \n",
       "4 18    313     11.5 62   5     4  \n",
       "5 NA     NA     14.3 56   5     5  \n",
       "6 28     NA     14.9 66   5     6  "
      ]
     },
     "metadata": {},
     "output_type": "display_data"
    }
   ],
   "source": [
    "head(airquality)"
   ]
  },
  {
   "cell_type": "code",
   "execution_count": 17,
   "id": "e7421deb-f601-4f60-916d-19bcf519ec7b",
   "metadata": {},
   "outputs": [
    {
     "data": {
      "text/html": [
       "<table>\n",
       "<thead><tr><th></th><th scope=col>Ozone</th><th scope=col>Solar.R</th><th scope=col>Wind</th><th scope=col>Temp</th><th scope=col>Month</th><th scope=col>Day</th></tr></thead>\n",
       "<tbody>\n",
       "\t<tr><th scope=row>1</th><td>41  </td><td>190 </td><td> 7.4</td><td>67  </td><td>5   </td><td>1   </td></tr>\n",
       "\t<tr><th scope=row>2</th><td>36  </td><td>118 </td><td> 8.0</td><td>72  </td><td>5   </td><td>2   </td></tr>\n",
       "\t<tr><th scope=row>3</th><td>12  </td><td>149 </td><td>12.6</td><td>74  </td><td>5   </td><td>3   </td></tr>\n",
       "\t<tr><th scope=row>4</th><td>18  </td><td>313 </td><td>11.5</td><td>62  </td><td>5   </td><td>4   </td></tr>\n",
       "\t<tr><th scope=row>7</th><td>23  </td><td>299 </td><td> 8.6</td><td>65  </td><td>5   </td><td>7   </td></tr>\n",
       "\t<tr><th scope=row>8</th><td>19  </td><td> 99 </td><td>13.8</td><td>59  </td><td>5   </td><td>8   </td></tr>\n",
       "</tbody>\n",
       "</table>\n"
      ],
      "text/latex": [
       "\\begin{tabular}{r|llllll}\n",
       "  & Ozone & Solar.R & Wind & Temp & Month & Day\\\\\n",
       "\\hline\n",
       "\t1 & 41   & 190  &  7.4 & 67   & 5    & 1   \\\\\n",
       "\t2 & 36   & 118  &  8.0 & 72   & 5    & 2   \\\\\n",
       "\t3 & 12   & 149  & 12.6 & 74   & 5    & 3   \\\\\n",
       "\t4 & 18   & 313  & 11.5 & 62   & 5    & 4   \\\\\n",
       "\t7 & 23   & 299  &  8.6 & 65   & 5    & 7   \\\\\n",
       "\t8 & 19   &  99  & 13.8 & 59   & 5    & 8   \\\\\n",
       "\\end{tabular}\n"
      ],
      "text/markdown": [
       "\n",
       "| <!--/--> | Ozone | Solar.R | Wind | Temp | Month | Day |\n",
       "|---|---|---|---|---|---|---|\n",
       "| 1 | 41   | 190  |  7.4 | 67   | 5    | 1    |\n",
       "| 2 | 36   | 118  |  8.0 | 72   | 5    | 2    |\n",
       "| 3 | 12   | 149  | 12.6 | 74   | 5    | 3    |\n",
       "| 4 | 18   | 313  | 11.5 | 62   | 5    | 4    |\n",
       "| 7 | 23   | 299  |  8.6 | 65   | 5    | 7    |\n",
       "| 8 | 19   |  99  | 13.8 | 59   | 5    | 8    |\n",
       "\n"
      ],
      "text/plain": [
       "  Ozone Solar.R Wind Temp Month Day\n",
       "1 41    190      7.4 67   5     1  \n",
       "2 36    118      8.0 72   5     2  \n",
       "3 12    149     12.6 74   5     3  \n",
       "4 18    313     11.5 62   5     4  \n",
       "7 23    299      8.6 65   5     7  \n",
       "8 19     99     13.8 59   5     8  "
      ]
     },
     "metadata": {},
     "output_type": "display_data"
    }
   ],
   "source": [
    "# omit : NA가 포함된 행 삭제\n",
    "head(na.omit(airquality))"
   ]
  },
  {
   "cell_type": "markdown",
   "id": "88135062-3fb0-4479-a971-1a1a48201f44",
   "metadata": {},
   "source": [
    "### merge"
   ]
  },
  {
   "cell_type": "code",
   "execution_count": 21,
   "id": "0cccd4b8-9324-4ce5-855f-4c76e64f74cf",
   "metadata": {},
   "outputs": [],
   "source": [
    "name = c(\"철수\", \"춘향\", \"길동\")\n",
    "age = c(22,20,25)\n",
    "gender = factor(c(\"M\",\"F\",\"M\"))\n",
    "blood.type = factor(c(\"A\",\"O\",\"B\"))"
   ]
  },
  {
   "cell_type": "code",
   "execution_count": 22,
   "id": "65d7c7df-d57d-4c0a-b0f7-6302acc80e16",
   "metadata": {},
   "outputs": [
    {
     "data": {
      "text/html": [
       "<table>\n",
       "<thead><tr><th scope=col>name</th><th scope=col>age</th><th scope=col>gender</th></tr></thead>\n",
       "<tbody>\n",
       "\t<tr><td>철수</td><td>22  </td><td>M   </td></tr>\n",
       "\t<tr><td>춘향</td><td>20  </td><td>F   </td></tr>\n",
       "\t<tr><td>길동</td><td>25  </td><td>M   </td></tr>\n",
       "</tbody>\n",
       "</table>\n"
      ],
      "text/latex": [
       "\\begin{tabular}{r|lll}\n",
       " name & age & gender\\\\\n",
       "\\hline\n",
       "\t 철수 & 22   & M   \\\\\n",
       "\t 춘향 & 20   & F   \\\\\n",
       "\t 길동 & 25   & M   \\\\\n",
       "\\end{tabular}\n"
      ],
      "text/markdown": [
       "\n",
       "| name | age | gender |\n",
       "|---|---|---|\n",
       "| 철수 | 22   | M    |\n",
       "| 춘향 | 20   | F    |\n",
       "| 길동 | 25   | M    |\n",
       "\n"
      ],
      "text/plain": [
       "  name age gender\n",
       "1 철수 22  M     \n",
       "2 춘향 20  F     \n",
       "3 길동 25  M     "
      ]
     },
     "metadata": {},
     "output_type": "display_data"
    }
   ],
   "source": [
    "patients1 = data.frame(name, age, gender)\n",
    "patients1"
   ]
  },
  {
   "cell_type": "code",
   "execution_count": 23,
   "id": "3ae3f3b2-a960-4923-ba2a-020f4190e0f1",
   "metadata": {},
   "outputs": [
    {
     "data": {
      "text/html": [
       "<table>\n",
       "<thead><tr><th scope=col>name</th><th scope=col>blood.type</th></tr></thead>\n",
       "<tbody>\n",
       "\t<tr><td>철수</td><td>A   </td></tr>\n",
       "\t<tr><td>춘향</td><td>O   </td></tr>\n",
       "\t<tr><td>길동</td><td>B   </td></tr>\n",
       "</tbody>\n",
       "</table>\n"
      ],
      "text/latex": [
       "\\begin{tabular}{r|ll}\n",
       " name & blood.type\\\\\n",
       "\\hline\n",
       "\t 철수 & A   \\\\\n",
       "\t 춘향 & O   \\\\\n",
       "\t 길동 & B   \\\\\n",
       "\\end{tabular}\n"
      ],
      "text/markdown": [
       "\n",
       "| name | blood.type |\n",
       "|---|---|\n",
       "| 철수 | A    |\n",
       "| 춘향 | O    |\n",
       "| 길동 | B    |\n",
       "\n"
      ],
      "text/plain": [
       "  name blood.type\n",
       "1 철수 A         \n",
       "2 춘향 O         \n",
       "3 길동 B         "
      ]
     },
     "metadata": {},
     "output_type": "display_data"
    }
   ],
   "source": [
    "patients2 = data.frame(name, blood.type)\n",
    "patients2"
   ]
  },
  {
   "cell_type": "code",
   "execution_count": 36,
   "id": "427ebd92-6b5d-41c0-b4fa-25a093b64dd6",
   "metadata": {},
   "outputs": [
    {
     "data": {
      "text/html": [
       "<table>\n",
       "<thead><tr><th scope=col>name</th><th scope=col>age</th><th scope=col>gender</th><th scope=col>blood.type</th></tr></thead>\n",
       "<tbody>\n",
       "\t<tr><td>길동</td><td>25  </td><td>M   </td><td>B   </td></tr>\n",
       "\t<tr><td>철수</td><td>22  </td><td>M   </td><td>A   </td></tr>\n",
       "\t<tr><td>춘향</td><td>20  </td><td>F   </td><td>O   </td></tr>\n",
       "</tbody>\n",
       "</table>\n"
      ],
      "text/latex": [
       "\\begin{tabular}{r|llll}\n",
       " name & age & gender & blood.type\\\\\n",
       "\\hline\n",
       "\t 길동 & 25   & M    & B   \\\\\n",
       "\t 철수 & 22   & M    & A   \\\\\n",
       "\t 춘향 & 20   & F    & O   \\\\\n",
       "\\end{tabular}\n"
      ],
      "text/markdown": [
       "\n",
       "| name | age | gender | blood.type |\n",
       "|---|---|---|---|\n",
       "| 길동 | 25   | M    | B    |\n",
       "| 철수 | 22   | M    | A    |\n",
       "| 춘향 | 20   | F    | O    |\n",
       "\n"
      ],
      "text/plain": [
       "  name age gender blood.type\n",
       "1 길동 25  M      B         \n",
       "2 철수 22  M      A         \n",
       "3 춘향 20  F      O         "
      ]
     },
     "metadata": {},
     "output_type": "display_data"
    }
   ],
   "source": [
    "merge(patients1, patients2, by=\"name\")"
   ]
  },
  {
   "cell_type": "markdown",
   "id": "bd8a2746-30c8-4279-9a39-04b1fb827924",
   "metadata": {},
   "source": [
    "# 리스트"
   ]
  },
  {
   "cell_type": "markdown",
   "id": "d642a53d-510b-47ee-ab0c-f285aec968d9",
   "metadata": {},
   "source": [
    "## 리스트 생성"
   ]
  },
  {
   "cell_type": "code",
   "execution_count": 42,
   "id": "e2b2727d-ba49-4ad9-b90a-a31f84495fb8",
   "metadata": {},
   "outputs": [],
   "source": [
    "patients = data.frame(name = c(\"철수\",\"춘향\",\"길동\"),\n",
    "                      age = c(22, 20, 25),\n",
    "                      gender = factor(c(\"M\",\"F\",\"M\")),\n",
    "                      blood.type = factor(c(\"A\",\"O\",\"B\"))\n",
    "                      )"
   ]
  },
  {
   "cell_type": "code",
   "execution_count": 45,
   "id": "cae721bd-8142-4bea-ba1a-4ed747ebeecc",
   "metadata": {},
   "outputs": [
    {
     "data": {
      "text/html": [
       "<table>\n",
       "<thead><tr><th scope=col>day</th><th scope=col>no</th></tr></thead>\n",
       "<tbody>\n",
       "\t<tr><td>1 </td><td>50</td></tr>\n",
       "\t<tr><td>2 </td><td>60</td></tr>\n",
       "\t<tr><td>3 </td><td>55</td></tr>\n",
       "\t<tr><td>4 </td><td>52</td></tr>\n",
       "\t<tr><td>5 </td><td>65</td></tr>\n",
       "\t<tr><td>6 </td><td>58</td></tr>\n",
       "</tbody>\n",
       "</table>\n"
      ],
      "text/latex": [
       "\\begin{tabular}{r|ll}\n",
       " day & no\\\\\n",
       "\\hline\n",
       "\t 1  & 50\\\\\n",
       "\t 2  & 60\\\\\n",
       "\t 3  & 55\\\\\n",
       "\t 4  & 52\\\\\n",
       "\t 5  & 65\\\\\n",
       "\t 6  & 58\\\\\n",
       "\\end{tabular}\n"
      ],
      "text/markdown": [
       "\n",
       "| day | no |\n",
       "|---|---|\n",
       "| 1  | 50 |\n",
       "| 2  | 60 |\n",
       "| 3  | 55 |\n",
       "| 4  | 52 |\n",
       "| 5  | 65 |\n",
       "| 6  | 58 |\n",
       "\n"
      ],
      "text/plain": [
       "  day no\n",
       "1 1   50\n",
       "2 2   60\n",
       "3 3   55\n",
       "4 4   52\n",
       "5 5   65\n",
       "6 6   58"
      ]
     },
     "metadata": {},
     "output_type": "display_data"
    }
   ],
   "source": [
    "no.patients = data.frame(day=c(1:6), no=c(50,60,55,52,65,58))\n",
    "no.patients"
   ]
  },
  {
   "cell_type": "code",
   "execution_count": 51,
   "id": "80e2d81c-1759-40f5-b937-bbf53dc9bea3",
   "metadata": {},
   "outputs": [
    {
     "data": {
      "text/html": [
       "<ol>\n",
       "\t<li><table>\n",
       "<thead><tr><th scope=col>name</th><th scope=col>age</th><th scope=col>gender</th><th scope=col>blood.type</th></tr></thead>\n",
       "<tbody>\n",
       "\t<tr><td>철수</td><td>22  </td><td>M   </td><td>A   </td></tr>\n",
       "\t<tr><td>춘향</td><td>20  </td><td>F   </td><td>O   </td></tr>\n",
       "\t<tr><td>길동</td><td>25  </td><td>M   </td><td>B   </td></tr>\n",
       "</tbody>\n",
       "</table>\n",
       "</li>\n",
       "\t<li><table>\n",
       "<thead><tr><th scope=col>day</th><th scope=col>no</th></tr></thead>\n",
       "<tbody>\n",
       "\t<tr><td>1 </td><td>50</td></tr>\n",
       "\t<tr><td>2 </td><td>60</td></tr>\n",
       "\t<tr><td>3 </td><td>55</td></tr>\n",
       "\t<tr><td>4 </td><td>52</td></tr>\n",
       "\t<tr><td>5 </td><td>65</td></tr>\n",
       "\t<tr><td>6 </td><td>58</td></tr>\n",
       "</tbody>\n",
       "</table>\n",
       "</li>\n",
       "</ol>\n"
      ],
      "text/latex": [
       "\\begin{enumerate}\n",
       "\\item \\begin{tabular}{r|llll}\n",
       " name & age & gender & blood.type\\\\\n",
       "\\hline\n",
       "\t 철수 & 22   & M    & A   \\\\\n",
       "\t 춘향 & 20   & F    & O   \\\\\n",
       "\t 길동 & 25   & M    & B   \\\\\n",
       "\\end{tabular}\n",
       "\n",
       "\\item \\begin{tabular}{r|ll}\n",
       " day & no\\\\\n",
       "\\hline\n",
       "\t 1  & 50\\\\\n",
       "\t 2  & 60\\\\\n",
       "\t 3  & 55\\\\\n",
       "\t 4  & 52\\\\\n",
       "\t 5  & 65\\\\\n",
       "\t 6  & 58\\\\\n",
       "\\end{tabular}\n",
       "\n",
       "\\end{enumerate}\n"
      ],
      "text/markdown": [
       "1. \n",
       "| name | age | gender | blood.type |\n",
       "|---|---|---|---|\n",
       "| 철수 | 22   | M    | A    |\n",
       "| 춘향 | 20   | F    | O    |\n",
       "| 길동 | 25   | M    | B    |\n",
       "\n",
       "\n",
       "2. \n",
       "| day | no |\n",
       "|---|---|\n",
       "| 1  | 50 |\n",
       "| 2  | 60 |\n",
       "| 3  | 55 |\n",
       "| 4  | 52 |\n",
       "| 5  | 65 |\n",
       "| 6  | 58 |\n",
       "\n",
       "\n",
       "\n",
       "\n"
      ],
      "text/plain": [
       "[[1]]\n",
       "  name age gender blood.type\n",
       "1 철수  22      M          A\n",
       "2 춘향  20      F          O\n",
       "3 길동  25      M          B\n",
       "\n",
       "[[2]]\n",
       "  day no\n",
       "1   1 50\n",
       "2   2 60\n",
       "3   3 55\n",
       "4   4 52\n",
       "5   5 65\n",
       "6   6 58\n"
      ]
     },
     "metadata": {},
     "output_type": "display_data"
    }
   ],
   "source": [
    "# 두 데이터 프레임을 리스트 형태로 나열하여 저장\n",
    "listPatients = list(patients, no.patients)\n",
    "listPatients"
   ]
  },
  {
   "cell_type": "code",
   "execution_count": 52,
   "id": "58b96079-f0fa-466a-9b42-fce91aa29309",
   "metadata": {},
   "outputs": [
    {
     "data": {
      "text/html": [
       "<dl>\n",
       "\t<dt>$patients</dt>\n",
       "\t\t<dd><table>\n",
       "<thead><tr><th scope=col>name</th><th scope=col>age</th><th scope=col>gender</th><th scope=col>blood.type</th></tr></thead>\n",
       "<tbody>\n",
       "\t<tr><td>철수</td><td>22  </td><td>M   </td><td>A   </td></tr>\n",
       "\t<tr><td>춘향</td><td>20  </td><td>F   </td><td>O   </td></tr>\n",
       "\t<tr><td>길동</td><td>25  </td><td>M   </td><td>B   </td></tr>\n",
       "</tbody>\n",
       "</table>\n",
       "</dd>\n",
       "\t<dt>$no.patients</dt>\n",
       "\t\t<dd><table>\n",
       "<thead><tr><th scope=col>day</th><th scope=col>no</th></tr></thead>\n",
       "<tbody>\n",
       "\t<tr><td>1 </td><td>50</td></tr>\n",
       "\t<tr><td>2 </td><td>60</td></tr>\n",
       "\t<tr><td>3 </td><td>55</td></tr>\n",
       "\t<tr><td>4 </td><td>52</td></tr>\n",
       "\t<tr><td>5 </td><td>65</td></tr>\n",
       "\t<tr><td>6 </td><td>58</td></tr>\n",
       "</tbody>\n",
       "</table>\n",
       "</dd>\n",
       "</dl>\n"
      ],
      "text/latex": [
       "\\begin{description}\n",
       "\\item[\\$patients] \\begin{tabular}{r|llll}\n",
       " name & age & gender & blood.type\\\\\n",
       "\\hline\n",
       "\t 철수 & 22   & M    & A   \\\\\n",
       "\t 춘향 & 20   & F    & O   \\\\\n",
       "\t 길동 & 25   & M    & B   \\\\\n",
       "\\end{tabular}\n",
       "\n",
       "\\item[\\$no.patients] \\begin{tabular}{r|ll}\n",
       " day & no\\\\\n",
       "\\hline\n",
       "\t 1  & 50\\\\\n",
       "\t 2  & 60\\\\\n",
       "\t 3  & 55\\\\\n",
       "\t 4  & 52\\\\\n",
       "\t 5  & 65\\\\\n",
       "\t 6  & 58\\\\\n",
       "\\end{tabular}\n",
       "\n",
       "\\end{description}\n"
      ],
      "text/markdown": [
       "$patients\n",
       ":   \n",
       "| name | age | gender | blood.type |\n",
       "|---|---|---|---|\n",
       "| 철수 | 22   | M    | A    |\n",
       "| 춘향 | 20   | F    | O    |\n",
       "| 길동 | 25   | M    | B    |\n",
       "\n",
       "\n",
       "$no.patients\n",
       ":   \n",
       "| day | no |\n",
       "|---|---|\n",
       "| 1  | 50 |\n",
       "| 2  | 60 |\n",
       "| 3  | 55 |\n",
       "| 4  | 52 |\n",
       "| 5  | 65 |\n",
       "| 6  | 58 |\n",
       "\n",
       "\n",
       "\n",
       "\n"
      ],
      "text/plain": [
       "$patients\n",
       "  name age gender blood.type\n",
       "1 철수  22      M          A\n",
       "2 춘향  20      F          O\n",
       "3 길동  25      M          B\n",
       "\n",
       "$no.patients\n",
       "  day no\n",
       "1   1 50\n",
       "2   2 60\n",
       "3   3 55\n",
       "4   4 52\n",
       "5   5 65\n",
       "6   6 58\n"
      ]
     },
     "metadata": {},
     "output_type": "display_data"
    }
   ],
   "source": [
    "# 각 데이터 프레임에 이름 부여 list(이름 = 프레임, 이름 = 프레임, ... ) 형태\n",
    "listPatients = list(patients=patients, no.patients=no.patients)\n",
    "listPatients"
   ]
  },
  {
   "cell_type": "markdown",
   "id": "a404c008-2082-4d05-9481-cdfc5a8c4992",
   "metadata": {},
   "source": [
    "## 요소 불러오기"
   ]
  },
  {
   "cell_type": "code",
   "execution_count": 54,
   "id": "bddeeee4-dc05-45eb-b116-01161463c35e",
   "metadata": {},
   "outputs": [
    {
     "data": {
      "text/html": [
       "<table>\n",
       "<thead><tr><th scope=col>name</th><th scope=col>age</th><th scope=col>gender</th><th scope=col>blood.type</th></tr></thead>\n",
       "<tbody>\n",
       "\t<tr><td>철수</td><td>22  </td><td>M   </td><td>A   </td></tr>\n",
       "\t<tr><td>춘향</td><td>20  </td><td>F   </td><td>O   </td></tr>\n",
       "\t<tr><td>길동</td><td>25  </td><td>M   </td><td>B   </td></tr>\n",
       "</tbody>\n",
       "</table>\n"
      ],
      "text/latex": [
       "\\begin{tabular}{r|llll}\n",
       " name & age & gender & blood.type\\\\\n",
       "\\hline\n",
       "\t 철수 & 22   & M    & A   \\\\\n",
       "\t 춘향 & 20   & F    & O   \\\\\n",
       "\t 길동 & 25   & M    & B   \\\\\n",
       "\\end{tabular}\n"
      ],
      "text/markdown": [
       "\n",
       "| name | age | gender | blood.type |\n",
       "|---|---|---|---|\n",
       "| 철수 | 22   | M    | A    |\n",
       "| 춘향 | 20   | F    | O    |\n",
       "| 길동 | 25   | M    | B    |\n",
       "\n"
      ],
      "text/plain": [
       "  name age gender blood.type\n",
       "1 철수 22  M      A         \n",
       "2 춘향 20  F      O         \n",
       "3 길동 25  M      B         "
      ]
     },
     "metadata": {},
     "output_type": "display_data"
    }
   ],
   "source": [
    "# 요소 불러오기 : $\n",
    "listPatients$patients"
   ]
  },
  {
   "cell_type": "code",
   "execution_count": 64,
   "id": "8822196f-3676-4e3e-a379-baa2095096b0",
   "metadata": {},
   "outputs": [
    {
     "data": {
      "text/html": [
       "<table>\n",
       "<thead><tr><th scope=col>name</th><th scope=col>age</th><th scope=col>gender</th><th scope=col>blood.type</th></tr></thead>\n",
       "<tbody>\n",
       "\t<tr><td>철수</td><td>22  </td><td>M   </td><td>A   </td></tr>\n",
       "\t<tr><td>춘향</td><td>20  </td><td>F   </td><td>O   </td></tr>\n",
       "\t<tr><td>길동</td><td>25  </td><td>M   </td><td>B   </td></tr>\n",
       "</tbody>\n",
       "</table>\n"
      ],
      "text/latex": [
       "\\begin{tabular}{r|llll}\n",
       " name & age & gender & blood.type\\\\\n",
       "\\hline\n",
       "\t 철수 & 22   & M    & A   \\\\\n",
       "\t 춘향 & 20   & F    & O   \\\\\n",
       "\t 길동 & 25   & M    & B   \\\\\n",
       "\\end{tabular}\n"
      ],
      "text/markdown": [
       "\n",
       "| name | age | gender | blood.type |\n",
       "|---|---|---|---|\n",
       "| 철수 | 22   | M    | A    |\n",
       "| 춘향 | 20   | F    | O    |\n",
       "| 길동 | 25   | M    | B    |\n",
       "\n"
      ],
      "text/plain": [
       "  name age gender blood.type\n",
       "1 철수 22  M      A         \n",
       "2 춘향 20  F      O         \n",
       "3 길동 25  M      B         "
      ]
     },
     "metadata": {},
     "output_type": "display_data"
    }
   ],
   "source": [
    "# 요소 불러오기 : 숫자로 인덱싱\n",
    "listPatients[[1]]"
   ]
  },
  {
   "cell_type": "code",
   "execution_count": 63,
   "id": "f4f8e4c0-40ca-4808-b024-c4eb6c238909",
   "metadata": {},
   "outputs": [
    {
     "data": {
      "text/html": [
       "<table>\n",
       "<thead><tr><th scope=col>name</th><th scope=col>age</th><th scope=col>gender</th><th scope=col>blood.type</th></tr></thead>\n",
       "<tbody>\n",
       "\t<tr><td>철수</td><td>22  </td><td>M   </td><td>A   </td></tr>\n",
       "\t<tr><td>춘향</td><td>20  </td><td>F   </td><td>O   </td></tr>\n",
       "\t<tr><td>길동</td><td>25  </td><td>M   </td><td>B   </td></tr>\n",
       "</tbody>\n",
       "</table>\n"
      ],
      "text/latex": [
       "\\begin{tabular}{r|llll}\n",
       " name & age & gender & blood.type\\\\\n",
       "\\hline\n",
       "\t 철수 & 22   & M    & A   \\\\\n",
       "\t 춘향 & 20   & F    & O   \\\\\n",
       "\t 길동 & 25   & M    & B   \\\\\n",
       "\\end{tabular}\n"
      ],
      "text/markdown": [
       "\n",
       "| name | age | gender | blood.type |\n",
       "|---|---|---|---|\n",
       "| 철수 | 22   | M    | A    |\n",
       "| 춘향 | 20   | F    | O    |\n",
       "| 길동 | 25   | M    | B    |\n",
       "\n"
      ],
      "text/plain": [
       "  name age gender blood.type\n",
       "1 철수 22  M      A         \n",
       "2 춘향 20  F      O         \n",
       "3 길동 25  M      B         "
      ]
     },
     "metadata": {},
     "output_type": "display_data"
    }
   ],
   "source": [
    "# 요소 불러오기 : 이름으로 인덱싱\n",
    "listPatients[[\"patients\"]]"
   ]
  },
  {
   "cell_type": "markdown",
   "id": "cbc6a7fb-aeb4-44d7-a19a-75030b1e0bfd",
   "metadata": {},
   "source": [
    "## apply 연산 (lapply, sapply)"
   ]
  },
  {
   "cell_type": "code",
   "execution_count": 70,
   "id": "88a17952-72f1-4260-ba03-96f06e8766fc",
   "metadata": {},
   "outputs": [
    {
     "data": {
      "text/html": [
       "<dl>\n",
       "\t<dt>$day</dt>\n",
       "\t\t<dd>3.5</dd>\n",
       "\t<dt>$no</dt>\n",
       "\t\t<dd>56.6666666666667</dd>\n",
       "</dl>\n"
      ],
      "text/latex": [
       "\\begin{description}\n",
       "\\item[\\$day] 3.5\n",
       "\\item[\\$no] 56.6666666666667\n",
       "\\end{description}\n"
      ],
      "text/markdown": [
       "$day\n",
       ":   3.5\n",
       "$no\n",
       ":   56.6666666666667\n",
       "\n",
       "\n"
      ],
      "text/plain": [
       "$day\n",
       "[1] 3.5\n",
       "\n",
       "$no\n",
       "[1] 56.66667\n"
      ]
     },
     "metadata": {},
     "output_type": "display_data"
    }
   ],
   "source": [
    "# 데이터 프레임에 대한 열별 평균\n",
    "lapply(listPatients$no.patients, mean)"
   ]
  },
  {
   "cell_type": "code",
   "execution_count": 71,
   "id": "c06e87c8-643f-427e-8d1b-5a8139c065cd",
   "metadata": {},
   "outputs": [
    {
     "data": {
      "text/html": [
       "<dl class=dl-horizontal>\n",
       "\t<dt>day</dt>\n",
       "\t\t<dd>3.5</dd>\n",
       "\t<dt>no</dt>\n",
       "\t\t<dd>56.6666666666667</dd>\n",
       "</dl>\n"
      ],
      "text/latex": [
       "\\begin{description*}\n",
       "\\item[day] 3.5\n",
       "\\item[no] 56.6666666666667\n",
       "\\end{description*}\n"
      ],
      "text/markdown": [
       "day\n",
       ":   3.5no\n",
       ":   56.6666666666667\n",
       "\n"
      ],
      "text/plain": [
       "     day       no \n",
       " 3.50000 56.66667 "
      ]
     },
     "metadata": {},
     "output_type": "display_data"
    }
   ],
   "source": [
    "sapply(no.patients, mean)"
   ]
  },
  {
   "cell_type": "code",
   "execution_count": 74,
   "id": "ed8f3d9d-265f-44d9-a27e-a950d7582314",
   "metadata": {},
   "outputs": [
    {
     "data": {
      "text/html": [
       "<dl>\n",
       "\t<dt>$day</dt>\n",
       "\t\t<dd>3.5</dd>\n",
       "\t<dt>$no</dt>\n",
       "\t\t<dd>56.6666666666667</dd>\n",
       "</dl>\n"
      ],
      "text/latex": [
       "\\begin{description}\n",
       "\\item[\\$day] 3.5\n",
       "\\item[\\$no] 56.6666666666667\n",
       "\\end{description}\n"
      ],
      "text/markdown": [
       "$day\n",
       ":   3.5\n",
       "$no\n",
       ":   56.6666666666667\n",
       "\n",
       "\n"
      ],
      "text/plain": [
       "$day\n",
       "[1] 3.5\n",
       "\n",
       "$no\n",
       "[1] 56.66667\n"
      ]
     },
     "metadata": {},
     "output_type": "display_data"
    }
   ],
   "source": [
    "# sapply simplify=F로 주면 lapply와 동일\n",
    "sapply(no.patients, mean, simplify=F)"
   ]
  },
  {
   "cell_type": "markdown",
   "id": "81d404ee-dac7-4e05-bb9b-6c45639e3a08",
   "metadata": {},
   "source": [
    "# 파일 읽기, 쓰기"
   ]
  },
  {
   "cell_type": "markdown",
   "id": "dc33e073-f58a-4964-930c-139be007b391",
   "metadata": {},
   "source": [
    "## 읽기"
   ]
  },
  {
   "cell_type": "code",
   "execution_count": 85,
   "id": "33f4e152-47ff-4289-b88f-7a88ec97ba67",
   "metadata": {},
   "outputs": [],
   "source": [
    "students = read.csv('./Source/students.csv')"
   ]
  },
  {
   "cell_type": "code",
   "execution_count": 89,
   "id": "2c26d0d4-f240-482c-943d-dbb9771e228d",
   "metadata": {},
   "outputs": [],
   "source": [
    "students$name = as.character(students$name)"
   ]
  },
  {
   "cell_type": "code",
   "execution_count": 131,
   "id": "83b263d3-b89f-4485-8173-c8314ad1ff90",
   "metadata": {},
   "outputs": [
    {
     "name": "stdout",
     "output_type": "stream",
     "text": [
      "'data.frame':\t5 obs. of  4 variables:\n",
      " $ name   : chr  \"강서준\" \"김도형\" \"박정원\" \"이상훈\" ...\n",
      " $ korean : int  100 90 90 100 85\n",
      " $ english: int  90 100 95 85 100\n",
      " $ math   : int  100 80 90 95 100\n"
     ]
    }
   ],
   "source": [
    "str(students)"
   ]
  },
  {
   "cell_type": "markdown",
   "id": "c3b1948e-67cd-4b9f-97ee-d790a1f807e7",
   "metadata": {},
   "source": [
    "## 쓰기"
   ]
  },
  {
   "cell_type": "code",
   "execution_count": 116,
   "id": "b15b34bc-0b2e-4481-a4ec-22b8c4fdbe1a",
   "metadata": {},
   "outputs": [],
   "source": [
    "write.csv(students, file=\"./Source/output.csv\")"
   ]
  },
  {
   "cell_type": "code",
   "execution_count": 135,
   "id": "0f5e112f-143a-4c06-be08-aa9e071197c9",
   "metadata": {},
   "outputs": [],
   "source": [
    "# 원본 파일의 형태에 관계 없이 다양한 형태로 저장할 수 있다.\n",
    "write.table(students, file=\"./Source/output.txt\")"
   ]
  },
  {
   "cell_type": "markdown",
   "id": "5ed135f1-2f7c-40fb-a517-26200ffb614b",
   "metadata": {},
   "source": [
    "readr 라이브러리를 사용해서 할 수도 있음\n",
    "\n",
    "write_csv, write_table 형식"
   ]
  },
  {
   "cell_type": "markdown",
   "id": "3b656d0b-296b-41e7-b23b-8bca037e7d33",
   "metadata": {},
   "source": [
    "# 조건문"
   ]
  },
  {
   "cell_type": "markdown",
   "id": "138c7626-6924-40ab-a1c8-a0791bbdf022",
   "metadata": {},
   "source": [
    "## vector에 대한 조건 연산"
   ]
  },
  {
   "cell_type": "code",
   "execution_count": 140,
   "id": "467b451a-7598-4a8f-b716-96c1674fb06d",
   "metadata": {},
   "outputs": [],
   "source": [
    "test = c(15,20,30, NA, 45)"
   ]
  },
  {
   "cell_type": "code",
   "execution_count": 141,
   "id": "43a2fec4-f38c-4453-8425-08774a08a90a",
   "metadata": {},
   "outputs": [
    {
     "data": {
      "text/html": [
       "<ol class=list-inline>\n",
       "\t<li>15</li>\n",
       "\t<li>20</li>\n",
       "\t<li>30</li>\n",
       "\t<li>&lt;NA&gt;</li>\n",
       "</ol>\n"
      ],
      "text/latex": [
       "\\begin{enumerate*}\n",
       "\\item 15\n",
       "\\item 20\n",
       "\\item 30\n",
       "\\item <NA>\n",
       "\\end{enumerate*}\n"
      ],
      "text/markdown": [
       "1. 15\n",
       "2. 20\n",
       "3. 30\n",
       "4. &lt;NA&gt;\n",
       "\n",
       "\n"
      ],
      "text/plain": [
       "[1] 15 20 30 NA"
      ]
     },
     "metadata": {},
     "output_type": "display_data"
    }
   ],
   "source": [
    "test[test < 40]"
   ]
  },
  {
   "cell_type": "code",
   "execution_count": 143,
   "id": "ca9836ec-8dad-4be5-816f-fe986e50fdf7",
   "metadata": {},
   "outputs": [
    {
     "data": {
      "text/html": [
       "<ol class=list-inline>\n",
       "\t<li>20</li>\n",
       "\t<li>&lt;NA&gt;</li>\n",
       "</ol>\n"
      ],
      "text/latex": [
       "\\begin{enumerate*}\n",
       "\\item 20\n",
       "\\item <NA>\n",
       "\\end{enumerate*}\n"
      ],
      "text/markdown": [
       "1. 20\n",
       "2. &lt;NA&gt;\n",
       "\n",
       "\n"
      ],
      "text/plain": [
       "[1] 20 NA"
      ]
     },
     "metadata": {},
     "output_type": "display_data"
    }
   ],
   "source": [
    "test[test %% 3 != 0]"
   ]
  },
  {
   "cell_type": "code",
   "execution_count": 144,
   "id": "29670385-1597-4de1-8597-8bc968a8d90b",
   "metadata": {},
   "outputs": [
    {
     "data": {
      "text/html": [
       "&lt;NA&gt;"
      ],
      "text/latex": [
       "<NA>"
      ],
      "text/markdown": [
       "&lt;NA&gt;"
      ],
      "text/plain": [
       "[1] NA"
      ]
     },
     "metadata": {},
     "output_type": "display_data"
    }
   ],
   "source": [
    "test[is.na(test)]"
   ]
  },
  {
   "cell_type": "code",
   "execution_count": 145,
   "id": "26ce97e7-5cd9-408c-b5d8-400983449e82",
   "metadata": {},
   "outputs": [
    {
     "data": {
      "text/html": [
       "<ol class=list-inline>\n",
       "\t<li>15</li>\n",
       "\t<li>20</li>\n",
       "\t<li>30</li>\n",
       "\t<li>45</li>\n",
       "</ol>\n"
      ],
      "text/latex": [
       "\\begin{enumerate*}\n",
       "\\item 15\n",
       "\\item 20\n",
       "\\item 30\n",
       "\\item 45\n",
       "\\end{enumerate*}\n"
      ],
      "text/markdown": [
       "1. 15\n",
       "2. 20\n",
       "3. 30\n",
       "4. 45\n",
       "\n",
       "\n"
      ],
      "text/plain": [
       "[1] 15 20 30 45"
      ]
     },
     "metadata": {},
     "output_type": "display_data"
    }
   ],
   "source": [
    "test[!is.na(test)]"
   ]
  },
  {
   "cell_type": "code",
   "execution_count": 148,
   "id": "c9fc4e38-76ec-48af-98f8-5ca1d30a799d",
   "metadata": {},
   "outputs": [
    {
     "data": {
      "text/html": [
       "<ol class=list-inline>\n",
       "\t<li>20</li>\n",
       "\t<li>30</li>\n",
       "</ol>\n"
      ],
      "text/latex": [
       "\\begin{enumerate*}\n",
       "\\item 20\n",
       "\\item 30\n",
       "\\end{enumerate*}\n"
      ],
      "text/markdown": [
       "1. 20\n",
       "2. 30\n",
       "\n",
       "\n"
      ],
      "text/plain": [
       "[1] 20 30"
      ]
     },
     "metadata": {},
     "output_type": "display_data"
    }
   ],
   "source": [
    "# test %% 2 == 0 만 조건으로 주면 NA도 함께 출력\n",
    "test[test %% 2 == 0 & !is.na(test)]"
   ]
  },
  {
   "cell_type": "markdown",
   "id": "d4158f0b-cfb6-4286-8ae3-0c9e9205aed3",
   "metadata": {},
   "source": [
    "## 데이터 프레임에 대한 조건 연산"
   ]
  },
  {
   "cell_type": "code",
   "execution_count": 149,
   "id": "b7e470dd-c7bc-46bd-9474-0598ed6b29ea",
   "metadata": {},
   "outputs": [],
   "source": [
    "charactors = data.frame(name = c(\"길동\", \"춘향\", \"철수\"), age = c(30, 16, 21), gender = factor(c(\"M\",\"F\",\"M\")))"
   ]
  },
  {
   "cell_type": "code",
   "execution_count": 152,
   "id": "53702636-0f21-433e-9b60-fd2ee44d1ed2",
   "metadata": {},
   "outputs": [
    {
     "data": {
      "text/html": [
       "<table>\n",
       "<thead><tr><th scope=col>name</th><th scope=col>age</th><th scope=col>gender</th></tr></thead>\n",
       "<tbody>\n",
       "\t<tr><td>길동</td><td>30  </td><td>M   </td></tr>\n",
       "\t<tr><td>춘향</td><td>16  </td><td>F   </td></tr>\n",
       "\t<tr><td>철수</td><td>21  </td><td>M   </td></tr>\n",
       "</tbody>\n",
       "</table>\n"
      ],
      "text/latex": [
       "\\begin{tabular}{r|lll}\n",
       " name & age & gender\\\\\n",
       "\\hline\n",
       "\t 길동 & 30   & M   \\\\\n",
       "\t 춘향 & 16   & F   \\\\\n",
       "\t 철수 & 21   & M   \\\\\n",
       "\\end{tabular}\n"
      ],
      "text/markdown": [
       "\n",
       "| name | age | gender |\n",
       "|---|---|---|\n",
       "| 길동 | 30   | M    |\n",
       "| 춘향 | 16   | F    |\n",
       "| 철수 | 21   | M    |\n",
       "\n"
      ],
      "text/plain": [
       "  name age gender\n",
       "1 길동 30  M     \n",
       "2 춘향 16  F     \n",
       "3 철수 21  M     "
      ]
     },
     "metadata": {},
     "output_type": "display_data"
    }
   ],
   "source": [
    "charactors"
   ]
  },
  {
   "cell_type": "code",
   "execution_count": 155,
   "id": "13beac71-477e-48b4-a8ac-e9df39f8029a",
   "metadata": {},
   "outputs": [
    {
     "data": {
      "text/html": [
       "<table>\n",
       "<thead><tr><th></th><th scope=col>name</th><th scope=col>age</th><th scope=col>gender</th></tr></thead>\n",
       "<tbody>\n",
       "\t<tr><th scope=row>2</th><td>춘향</td><td>16  </td><td>F   </td></tr>\n",
       "</tbody>\n",
       "</table>\n"
      ],
      "text/latex": [
       "\\begin{tabular}{r|lll}\n",
       "  & name & age & gender\\\\\n",
       "\\hline\n",
       "\t2 & 춘향 & 16   & F   \\\\\n",
       "\\end{tabular}\n"
      ],
      "text/markdown": [
       "\n",
       "| <!--/--> | name | age | gender |\n",
       "|---|---|---|---|\n",
       "| 2 | 춘향 | 16   | F    |\n",
       "\n"
      ],
      "text/plain": [
       "  name age gender\n",
       "2 춘향 16  F     "
      ]
     },
     "metadata": {},
     "output_type": "display_data"
    }
   ],
   "source": [
    "charactors[charactors$gender == \"F\",]"
   ]
  },
  {
   "cell_type": "code",
   "execution_count": 157,
   "id": "0979a6f9-82d5-48fc-811d-9821e051f3c2",
   "metadata": {},
   "outputs": [
    {
     "data": {
      "text/html": [
       "<table>\n",
       "<thead><tr><th></th><th scope=col>name</th><th scope=col>age</th><th scope=col>gender</th></tr></thead>\n",
       "<tbody>\n",
       "\t<tr><th scope=row>3</th><td>철수</td><td>21  </td><td>M   </td></tr>\n",
       "</tbody>\n",
       "</table>\n"
      ],
      "text/latex": [
       "\\begin{tabular}{r|lll}\n",
       "  & name & age & gender\\\\\n",
       "\\hline\n",
       "\t3 & 철수 & 21   & M   \\\\\n",
       "\\end{tabular}\n"
      ],
      "text/markdown": [
       "\n",
       "| <!--/--> | name | age | gender |\n",
       "|---|---|---|---|\n",
       "| 3 | 철수 | 21   | M    |\n",
       "\n"
      ],
      "text/plain": [
       "  name age gender\n",
       "3 철수 21  M     "
      ]
     },
     "metadata": {},
     "output_type": "display_data"
    }
   ],
   "source": [
    "charactors[charactors$age < 30 & charactors$gender == \"M\",]"
   ]
  },
  {
   "cell_type": "markdown",
   "id": "6cb1d690-a232-41aa-ab92-9e5341905f3a",
   "metadata": {},
   "source": [
    "## if문 사용"
   ]
  },
  {
   "cell_type": "code",
   "execution_count": 160,
   "id": "3b9fa745-2f4e-49c6-9e72-faa36fa1d2f5",
   "metadata": {},
   "outputs": [
    {
     "name": "stdout",
     "output_type": "stream",
     "text": [
      "[1] \"x는 홀수\"\n"
     ]
    }
   ],
   "source": [
    "x = 5\n",
    "if(x %% 2 == 0) {\n",
    "    print(\"x는 짝수\")\n",
    "    } else {\n",
    "    print(\"x는 홀수\")\n",
    "    }"
   ]
  },
  {
   "cell_type": "code",
   "execution_count": 162,
   "id": "5b992f10-b72e-49c2-8a52-423264360c75",
   "metadata": {},
   "outputs": [
    {
     "name": "stdout",
     "output_type": "stream",
     "text": [
      "[1] \"x is a negative value.\"\n"
     ]
    }
   ],
   "source": [
    "x = -1\n",
    "if(x > 0){\n",
    "    print('x is a positive value.')\n",
    "    } else if(x < 0) {\n",
    "    print('x is a negative value.')\n",
    "    } else {\n",
    "    print('x is  zero.')\n",
    "}"
   ]
  },
  {
   "cell_type": "markdown",
   "id": "6a4a36b0-c342-4b16-8694-bdfe13ace1a0",
   "metadata": {},
   "source": [
    "### ifelse 함수 "
   ]
  },
  {
   "cell_type": "code",
   "execution_count": 171,
   "id": "8c85f620-6264-4ef1-aede-d065d4211104",
   "metadata": {},
   "outputs": [
    {
     "data": {
      "text/html": [
       "<ol class=list-inline>\n",
       "\t<li>&lt;NA&gt;</li>\n",
       "\t<li>&lt;NA&gt;</li>\n",
       "\t<li>&lt;NA&gt;</li>\n",
       "\t<li>&lt;NA&gt;</li>\n",
       "\t<li>&lt;NA&gt;</li>\n",
       "\t<li>0</li>\n",
       "\t<li>1</li>\n",
       "\t<li>1.4142135623731</li>\n",
       "\t<li>1.73205080756888</li>\n",
       "\t<li>2</li>\n",
       "\t<li>2.23606797749979</li>\n",
       "</ol>\n"
      ],
      "text/latex": [
       "\\begin{enumerate*}\n",
       "\\item <NA>\n",
       "\\item <NA>\n",
       "\\item <NA>\n",
       "\\item <NA>\n",
       "\\item <NA>\n",
       "\\item 0\n",
       "\\item 1\n",
       "\\item 1.4142135623731\n",
       "\\item 1.73205080756888\n",
       "\\item 2\n",
       "\\item 2.23606797749979\n",
       "\\end{enumerate*}\n"
      ],
      "text/markdown": [
       "1. &lt;NA&gt;\n",
       "2. &lt;NA&gt;\n",
       "3. &lt;NA&gt;\n",
       "4. &lt;NA&gt;\n",
       "5. &lt;NA&gt;\n",
       "6. 0\n",
       "7. 1\n",
       "8. 1.4142135623731\n",
       "9. 1.73205080756888\n",
       "10. 2\n",
       "11. 2.23606797749979\n",
       "\n",
       "\n"
      ],
      "text/plain": [
       " [1]   NA   NA   NA   NA   NA 0.00 1.00 1.41 1.73 2.00 2.24"
      ]
     },
     "metadata": {},
     "output_type": "display_data"
    }
   ],
   "source": [
    "# ifelse(조건, 참, 거짓)\n",
    "x = c(-5:5)\n",
    "\n",
    "# 유효 자릿수 3자리로 설정\n",
    "options(digits=3)\n",
    "\n",
    "# x가 0보다 클때만 sqrt 적용하고 아니면 NA\n",
    "sqrt(ifelse(x >= 0, x, NA))"
   ]
  },
  {
   "cell_type": "code",
   "execution_count": null,
   "id": "f9de1b40-18c2-44b8-8f97-09e9d5740f2f",
   "metadata": {},
   "outputs": [],
   "source": []
  }
 ],
 "metadata": {
  "kernelspec": {
   "display_name": "R",
   "language": "R",
   "name": "ir"
  },
  "language_info": {
   "codemirror_mode": "r",
   "file_extension": ".r",
   "mimetype": "text/x-r-source",
   "name": "R",
   "pygments_lexer": "r",
   "version": "3.6.1"
  },
  "toc-autonumbering": true
 },
 "nbformat": 4,
 "nbformat_minor": 5
}
